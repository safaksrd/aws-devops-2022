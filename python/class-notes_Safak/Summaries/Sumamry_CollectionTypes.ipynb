{
 "cells": [
  {
   "cell_type": "markdown",
   "metadata": {},
   "source": [
    "# LISTS\n",
    "\n",
    "# Syntax: list_1 = [True, 'Space', 20]\n",
    "\n",
    "# Syntax: list_2 = list('string')\n",
    "\n",
    "# Syntax: list_3 = ([1, 2, 3])\n",
    "\n",
    "## İndekslenebilirler.\n",
    "\n",
    "## Mutable (degisitirilebilir)\n",
    "\n",
    "## list koseli parantez ve virgul kullanarak olusturulur.\n",
    "\n",
    "## icinde birden cok veri tipi saklanır.\n",
    "\n",
    "## Saklandıkları sırayla yazilirlar.\n",
    "\n",
    "### an iterable object: that is, type of object whose elements you can import individually.\n",
    "### Python'da gezinilebilen (iterable) nesne olarak kullanılabilen bir nesneye iterable obje denir. Bu temel olarak nesnedeki dizinin gezinilebileceği ve ilerlenebileceği anlamına gelir."
   ]
  },
  {
   "cell_type": "code",
   "execution_count": 40,
   "metadata": {},
   "outputs": [
    {
     "name": "stdout",
     "output_type": "stream",
     "text": [
      "['USA', 'Brasil', 'UK', 'Germany', 'Turkey', 'New Zealand']\n"
     ]
    }
   ],
   "source": [
    "country = ['USA', 'Brasil', 'UK', 'Germany', 'Turkey', 'New Zealand']\n",
    "print(country)"
   ]
  },
  {
   "cell_type": "code",
   "execution_count": 41,
   "metadata": {},
   "outputs": [
    {
     "name": "stdout",
     "output_type": "stream",
     "text": [
      "['I', ' ', 'q', 'u', 'i', 't', ' ', 's', 'm', 'o', 'k', 'i', 'n', 'g']\n",
      "14\n",
      "['I quit smoking']\n",
      "1\n"
     ]
    }
   ],
   "source": [
    "# list fonksiyonu kullanarak list olusturma\n",
    "string_1 = 'I quit smoking'\n",
    "\n",
    "new_list_1 = list(string_1)  # cok elemanlı list olusturduk. \n",
    "                             # Sonuctan gorulecegi gibi ayni deger (ornegin 'i') birden cok yer alabilir.\n",
    "print(new_list_1)\n",
    "print(len(new_list_1))\n",
    "\n",
    "new_list_2 = [string_1]  # dikkat! burada  tek elemanlı bir list olusur. \n",
    "print(new_list_2)\n",
    "print(len(new_list_2))"
   ]
  },
  {
   "cell_type": "code",
   "execution_count": 14,
   "metadata": {},
   "outputs": [
    {
     "name": "stdout",
     "output_type": "stream",
     "text": [
      "[11, 'Joseph', False, 3.14, None, [1, 2, 3]]\n",
      "6\n"
     ]
    }
   ],
   "source": [
    "# list icinde birden farkli veri tipleri saklanabilir.\n",
    "\n",
    "mixed_list = [11, 'Joseph', False, 3.14, None, [1, 2, 3]]  # dikkat! List elemanlari arasina list ([1, 2, 3]) koyabiliyoruz.\n",
    "print(mixed_list)\n",
    "print(len(mixed_list))"
   ]
  },
  {
   "cell_type": "code",
   "execution_count": 15,
   "metadata": {},
   "outputs": [
    {
     "name": "stdout",
     "output_type": "stream",
     "text": [
      "22\n"
     ]
    }
   ],
   "source": [
    "warning = 'You must quit smoking!' # bosluklar ve unlem dahil 22 karakter var. \n",
    "                                   # list fonksiyonu kullanarak hepsini birbirinden ayirinca 22 elemanlı bir list olusur.\n",
    "\n",
    "print(len(list(warning)))"
   ]
  },
  {
   "cell_type": "code",
   "execution_count": 18,
   "metadata": {},
   "outputs": [
    {
     "name": "stdout",
     "output_type": "stream",
     "text": [
      "0\n",
      "0\n"
     ]
    }
   ],
   "source": [
    "# bos list olusturma. eleman sayisi 0.\n",
    "\n",
    "empty_list_1= []\n",
    "empty_list_2 = list()\n",
    "print(len(empty_list_1))\n",
    "print(len(empty_list_2))"
   ]
  },
  {
   "cell_type": "code",
   "execution_count": 20,
   "metadata": {},
   "outputs": [
    {
     "name": "stdout",
     "output_type": "stream",
     "text": [
      "['114', 'plastic-free sea']\n",
      "2\n"
     ]
    }
   ],
   "source": [
    "# bos listeye .append ile ekleme yapalim. Arka arkaya ekler.\n",
    "\n",
    "empty_list_1 = []\n",
    "empty_list_1.append('114')\n",
    "empty_list_1.append('plastic-free sea')\n",
    "\n",
    "print(empty_list_1)\n",
    "print(len(empty_list_1))"
   ]
  },
  {
   "cell_type": "code",
   "execution_count": 22,
   "metadata": {},
   "outputs": [
    {
     "name": "stdout",
     "output_type": "stream",
     "text": [
      "['New York', 'London', 'Istanbul', 'Seoul', 'Sydney', 'Addis Ababa']\n"
     ]
    }
   ],
   "source": [
    "# Varolan listenin sonuna .append ile ekleme yapalim. En sona ekleme yapar.\n",
    "\n",
    "city = ['New York', 'London', 'Istanbul', 'Seoul', 'Sydney']\n",
    "city.append('Addis Ababa')\n",
    "\n",
    "print(city)"
   ]
  },
  {
   "cell_type": "code",
   "execution_count": 31,
   "metadata": {},
   "outputs": [
    {
     "name": "stdout",
     "output_type": "stream",
     "text": [
      "['New York', 'London', 'Istanbul', 'Seoul', 'Sydney', 'Addis Ababa']\n",
      "6\n",
      "['New York', 'London', 'Stockholm', 'Istanbul', 'Seoul', 'Sydney', 'Addis Ababa']\n",
      "7\n"
     ]
    }
   ],
   "source": [
    "# Varolan listenin herhangi bir yerine .insert ile ekleme yapalim.\n",
    "\n",
    "city = ['New York', 'London', 'Istanbul', 'Seoul', 'Sydney', 'Addis Ababa']\n",
    "print(city)\n",
    "print(len(city))\n",
    "\n",
    "city.insert(2, 'Stockholm')  # 2.indekse ekleme yapti. Dikkat! indeks 0'dan baslar.\n",
    "print(city)\n",
    "print(len(city))"
   ]
  },
  {
   "cell_type": "code",
   "execution_count": 34,
   "metadata": {},
   "outputs": [
    {
     "name": "stdout",
     "output_type": "stream",
     "text": [
      "['New York', 'London', 'Stockholm', 'Istanbul', 'Seoul', 'Sydney', 'Addis Ababa']\n",
      "7\n",
      "['New York', 'Stockholm', 'Istanbul', 'Seoul', 'Sydney', 'Addis Ababa']\n",
      "6\n"
     ]
    }
   ],
   "source": [
    "# list den .remove ile eleman silme\n",
    "\n",
    "city = ['New York', 'London', 'Stockholm', 'Istanbul', 'Seoul', 'Sydney', 'Addis Ababa']\n",
    "print(city)\n",
    "print(len(city))\n",
    "\n",
    "city.remove('London')\n",
    "print(city)  # 'London' silindi\n",
    "print(len(city))"
   ]
  },
  {
   "cell_type": "code",
   "execution_count": 35,
   "metadata": {},
   "outputs": [
    {
     "name": "stdout",
     "output_type": "stream",
     "text": [
      "['New York', 'Stockholm', 'Istanbul', 'Seoul', 'Sydney', 'Addis Ababa']\n",
      "['Addis Ababa', 'Istanbul', 'New York', 'Seoul', 'Stockholm', 'Sydney']\n"
     ]
    }
   ],
   "source": [
    "# list elemanlarini .sort ile alfabetik siraya dizelim\n",
    "\n",
    "city = ['New York', 'Stockholm', 'Istanbul', 'Seoul', 'Sydney', 'Addis Ababa']\n",
    "print(city)\n",
    "\n",
    "city.sort()  # list alfabetik siraya gore olusur\n",
    "print(city)   "
   ]
  },
  {
   "cell_type": "code",
   "execution_count": 36,
   "metadata": {},
   "outputs": [
    {
     "name": "stdout",
     "output_type": "stream",
     "text": [
      "[1, 3, 5, 7, 1, 3, 5, 7, 1, 3, 5, 7]\n"
     ]
    }
   ],
   "source": [
    "# list bir integer ile carpalim. Carpim miktari kadar kendini tekrar eder.\n",
    "\n",
    "my_list = [1, 3, 5, 7]\n",
    "print(my_list * 3)"
   ]
  },
  {
   "cell_type": "code",
   "execution_count": 39,
   "metadata": {},
   "outputs": [
    {
     "name": "stdout",
     "output_type": "stream",
     "text": [
      "['New York', 'Stockholm', 'Istanbul', 'Seoul', 'Sydney', 'Addis Ababa']\n",
      "['New York', 'Melbourne', 'Istanbul', 'Seoul', 'Sydney', 'Addis Ababa']\n"
     ]
    }
   ],
   "source": [
    "# belirli bir indeks numarasina eleman atayalim.\n",
    "\n",
    "city = ['New York', 'Stockholm', 'Istanbul', 'Seoul', 'Sydney', 'Addis Ababa']\n",
    "print(city) \n",
    "city[1] = 'Melbourne'  # 1.indekse 'Melbourne' ü atayalim.\n",
    "print(city)  #  'Stockholm' slindi, 'Melbourne' yazildi."
   ]
  },
  {
   "cell_type": "markdown",
   "metadata": {},
   "source": [
    "## Accessing Lists"
   ]
  },
  {
   "cell_type": "code",
   "execution_count": null,
   "metadata": {},
   "outputs": [],
   "source": [
    "# Bir listedeki her elemana ya da bir stringin her bir karakterine indeksleme ile ulasabiliriz"
   ]
  },
  {
   "cell_type": "code",
   "execution_count": 43,
   "metadata": {},
   "outputs": [
    {
     "name": "stdout",
     "output_type": "stream",
     "text": [
      "5\n",
      "blue\n"
     ]
    }
   ],
   "source": [
    "colors = ['red', 'purple', 'blue', 'yellow', 'green']\n",
    "print(len(colors))  # Toplam indeks sayimiz: 5\n",
    "print(colors[2])  # Dikkat indeks 0'dan baslar. 2.indeksimiz 'blue'"
   ]
  },
  {
   "cell_type": "code",
   "execution_count": 42,
   "metadata": {},
   "outputs": [
    {
     "name": "stdout",
     "output_type": "stream",
     "text": [
      "5\n",
      "0\n",
      "[['New York', 'London', 'Istanbul', 'Seoul', 'Sydney']]\n",
      "1\n"
     ]
    }
   ],
   "source": [
    "# bos olan bir list e dolu bir list i ekleyelim \n",
    "city = ['New York', 'London', 'Istanbul', 'Seoul', 'Sydney']\n",
    "print(len(city))  # indeks uzunlugu yani eleman sayisi 5 olacak\n",
    "\n",
    "city_list = []\n",
    "print(len(city_list))  # indeks uzunlugu 0 olacak\n",
    "\n",
    "city_list.append(city) # bos list e dolu list i ekledik. \n",
    "                       # Dikkat! dolu list tek bir eleman gibi eklenecek\n",
    "                       # sonuca dikkat edelim. iki koseli parantez ic ice (nested) gecmis\n",
    "\n",
    "print(city_list)\n",
    "print(len(city_list))  # indeks uzunlugu 1 olacak"
   ]
  },
  {
   "cell_type": "code",
   "execution_count": 43,
   "metadata": {},
   "outputs": [
    {
     "name": "stdout",
     "output_type": "stream",
     "text": [
      "['New York', 'London', 'Istanbul', 'Seoul', 'Sydney']\n"
     ]
    }
   ],
   "source": [
    "# yukarida indeks uzunlugu : len(city_list) = 1 idi. Yani tek bir elemani var.\n",
    "# simdi 0.indekste yer alan bu bir elemani yazdiralim\n",
    "\n",
    "city_list = [['New York', 'London', 'Istanbul', 'Seoul', 'Sydney']]\n",
    "print(city_list[0])"
   ]
  },
  {
   "cell_type": "code",
   "execution_count": 44,
   "metadata": {},
   "outputs": [
    {
     "name": "stdout",
     "output_type": "stream",
     "text": [
      "Istanbul\n"
     ]
    }
   ],
   "source": [
    "# yukarida indeks uzunlugu : len(city_list) = 1 idi. Yani tek bir elemani var.\n",
    "# simdi 0.indekste yer alan bu bir elemanin 2.indeksinde yer alan elemanini yazdiralim\n",
    "\n",
    "city_list = [['New York', 'London', 'Istanbul', 'Seoul', 'Sydney']]\n",
    "print(city_list[0][2])"
   ]
  },
  {
   "cell_type": "code",
   "execution_count": 45,
   "metadata": {},
   "outputs": [
    {
     "name": "stdout",
     "output_type": "stream",
     "text": [
      "a\n"
     ]
    }
   ],
   "source": [
    "# yukarida indeks uzunlugu : len(city_list) = 1 idi. Yani tek bir elemani var.\n",
    "# simdi 0.indekste yer alan bu bir elemanin 2.indeksinde yer alan elemaninin 3.indeksindeki elemanini yazdiralim\n",
    "\n",
    "city_list = [['New York', 'London', 'Istanbul', 'Seoul', 'Sydney']]\n",
    "print(city_list[0][2][3])"
   ]
  },
  {
   "cell_type": "code",
   "execution_count": 49,
   "metadata": {},
   "outputs": [
    {
     "name": "stdout",
     "output_type": "stream",
     "text": [
      "8\n",
      "27\n"
     ]
    }
   ],
   "source": [
    "odd_numbers = [[11, 13, 15], 17, 19, 21, 23, 25, 27, 29]\n",
    "\n",
    "print(len(odd_numbers))\n",
    "print(odd_numbers[6])"
   ]
  },
  {
   "cell_type": "code",
   "execution_count": 51,
   "metadata": {},
   "outputs": [
    {
     "name": "stdout",
     "output_type": "stream",
     "text": [
      "[['apple', 'banana', 'watermelon', 'orange', 'mango', 'avocado']]\n",
      "1\n",
      "l\n"
     ]
    }
   ],
   "source": [
    "fruits = ['apple', 'banana', 'watermelon', 'orange', 'mango', 'avocado']\n",
    "\n",
    "fruit_list = []\n",
    "fruit_list.insert(0, fruits) # bos olan fruit_list in 0.indeksine fruits list i tek bir eleman olarak ekliyoruz.\n",
    "\n",
    "print(fruit_list)  # dikkat!2 tane koseli parantez var\n",
    "print(len(fruit_list))  # eleman sayisi 1 dir.\n",
    "print(fruit_list[0][2][7])  # 0.indeksin 2.indeksinde watermelon, onun 7.indeksinde ise l harfi vardir."
   ]
  },
  {
   "cell_type": "markdown",
   "metadata": {},
   "source": [
    "## Liste Dilimleme (Slicing) sequence[start:stop:step]"
   ]
  },
  {
   "cell_type": "code",
   "execution_count": 47,
   "metadata": {},
   "outputs": [
    {
     "name": "stdout",
     "output_type": "stream",
     "text": [
      "[5, 7, 9]\n"
     ]
    }
   ],
   "source": [
    "numbers = [1, 3, 5, 7, 9, 11, 13, 15, 17]\n",
    "print(numbers[2:5])  # 5 dahil olmayacak sekilde 2.indeksten 5.indekse kadar olan (yani 2., 3., 4.) elemanlari yazdiriyoruz"
   ]
  },
  {
   "cell_type": "code",
   "execution_count": 50,
   "metadata": {},
   "outputs": [
    {
     "name": "stdout",
     "output_type": "stream",
     "text": [
      "[0, 2, 4, 6, 8, 10]\n",
      "[0, 2, 4, 6, 8, 10]\n",
      "[1, 3, 5, 7, 9]\n",
      "[1, 3, 5, 7, 9]\n"
     ]
    }
   ],
   "source": [
    "# range komutu ile sayi dizisi olusturulur\n",
    "even_numbers1 = list(range(11))\n",
    "even_numbers2 = list(range(0,11,2))\n",
    "\n",
    "print(even_numbers1[0:11:2])  # 0.indeksten 11.indekse (11 haric) iki atlayarak sayilari yazdiriyoruz.\n",
    "print(even_numbers2)\n",
    "\n",
    "odd_numbers1 = list(range(11))\n",
    "odd_numbers2 = list(range(1,11,2))\n",
    "print(odd_numbers1[1:11:2])  # 1.indeksten 11.indekse (11 haric) iki atlayarak sayilari yazdiriyoruz.\n",
    "print(odd_numbers2)\n"
   ]
  },
  {
   "cell_type": "code",
   "execution_count": 56,
   "metadata": {},
   "outputs": [
    {
     "name": "stdout",
     "output_type": "stream",
     "text": [
      "['elephant', 'bear', 'fox', 'wolf', 'rabbit', 'deer', 'giraffe']\n",
      "['wolf', 'rabbit', 'deer', 'giraffe']\n",
      "['elephant', 'bear', 'fox', 'wolf', 'rabbit']\n",
      "['elephant', 'fox', 'rabbit', 'giraffe']\n"
     ]
    }
   ],
   "source": [
    "animals = ['elephant', 'bear', 'fox', 'wolf', 'rabbit', 'deer', 'giraffe']\n",
    "\n",
    "print(animals[:])  # list in tum elemanlarini yazdirir\n",
    "print(animals[3:])  # list in 3.indeksten son indekse kadar tum elemanlarini yazdirir\n",
    "print(animals[:5])  # list in 0.indeksten 5.indekse kadar (5 haric) tum elemanlarini yazdirir\n",
    "print(animals[::2])  # list in 0.indeksten son indekse kadar tum elemanlarini iki atlayarak yazdirir"
   ]
  },
  {
   "cell_type": "code",
   "execution_count": 57,
   "metadata": {},
   "outputs": [
    {
     "name": "stdout",
     "output_type": "stream",
     "text": [
      "[10, 12, 14, 16, 18]\n"
     ]
    }
   ],
   "source": [
    "even_numbers = [2, 4, 6, 8, 10, 12, 14, 16, 18, 20]\n",
    "\n",
    "print(even_numbers[4:9])  # 4.indeksten 9.indekse (9 haric) sayilari yazdirir."
   ]
  },
  {
   "cell_type": "code",
   "execution_count": 60,
   "metadata": {},
   "outputs": [
    {
     "name": "stdout",
     "output_type": "stream",
     "text": [
      "1\n"
     ]
    }
   ],
   "source": [
    "print(len([[12, 34, 56]]))  # dikkat! 2 tane koseli parantez ic ice. list icinde list. eleman sayisi 1\n"
   ]
  },
  {
   "cell_type": "code",
   "execution_count": 78,
   "metadata": {},
   "outputs": [
    {
     "name": "stdout",
     "output_type": "stream",
     "text": [
      "3\n",
      "1\n",
      "[12, 34, 56]\n",
      "3\n"
     ]
    }
   ],
   "source": [
    "print(len([[12, 34, 56]][0]))  # dikkat! 2 koseli parantez var. \n",
    "                               # [[12, 34, 56]] list inin 0.indekste yer alan tek bir elemani var. O da bir list [12, 34, 56].\n",
    "                               # Dolayisiyla 0.indekste yer alan elemanin 0.indeksi [12, 34, 56]\n",
    "                               # [12, 34, 56] 'in uzunlugu ise 3'\n",
    "\n",
    "# Soyle yaparsak daha rahat gorebiliriz. a degiskenine [12, 34, 56] listesini atayalim\n",
    "a = [[12, 34, 56]]\n",
    "print(len(a))       # a degiskeninin uzunlugu 1\n",
    "print(a[0])         # a degiskeninin 0.indeksi [12, 34, 56]\n",
    "print(len(a[0]))    # a degiskeninin 0.indeksinin uzunlugu dolayisiyla 3 olur."
   ]
  },
  {
   "cell_type": "code",
   "execution_count": 79,
   "metadata": {},
   "outputs": [
    {
     "name": "stdout",
     "output_type": "stream",
     "text": [
      "London\n"
     ]
    }
   ],
   "source": [
    "# Negatif İndeksleme\n",
    "# en sagdaki yani en sondaki indeks -1. sola dogru -1 azalarak geliyoruz.\n",
    "\n",
    "city = ['New York', 'London', 'Istanbul', 'Seoul', 'Sydney']\n",
    "print(city[-4])  # en sagdaki -1.indeks ve sadece onu yazar"
   ]
  },
  {
   "cell_type": "code",
   "execution_count": 80,
   "metadata": {},
   "outputs": [
    {
     "name": "stdout",
     "output_type": "stream",
     "text": [
      "['lobster', 'squid', 'octopus']\n"
     ]
    }
   ],
   "source": [
    "reef = ['swordfish', 'shark', 'whale', 'jellyfish', 'lobster', 'squid', 'octopus']\n",
    "print(reef[-3:])  # -3.indeksten en sona kadar olanlari yazar"
   ]
  },
  {
   "cell_type": "code",
   "execution_count": 81,
   "metadata": {},
   "outputs": [
    {
     "name": "stdout",
     "output_type": "stream",
     "text": [
      "['swordfish', 'shark', 'whale', 'jellyfish']\n"
     ]
    }
   ],
   "source": [
    "reef = ['swordfish', 'shark', 'whale', 'jellyfish', 'lobster', 'squid', 'octopus']\n",
    "print(reef[:-3])  # 0.indeksten -3.indekse kadar (-3 haric) olanlari yazar"
   ]
  },
  {
   "cell_type": "code",
   "execution_count": 112,
   "metadata": {},
   "outputs": [
    {
     "name": "stdout",
     "output_type": "stream",
     "text": [
      "['octopus', 'squid', 'lobster', 'jellyfish', 'whale', 'shark', 'swordfish']\n",
      "['octopus', 'squid', 'lobster', 'jellyfish', 'whale', 'shark', 'swordfish']\n"
     ]
    }
   ],
   "source": [
    "reef = ['swordfish', 'shark', 'whale', 'jellyfish', 'lobster', 'squid', 'octopus']\n",
    "print(reef[::-1])  # tum listeyi tersten yazar\n",
    "reef.reverse()  # tum listeyi tersten yazdirmanin bir diger yolu .reverse komutudur\n",
    "print(reef)"
   ]
  },
  {
   "cell_type": "code",
   "execution_count": 83,
   "metadata": {},
   "outputs": [
    {
     "name": "stdout",
     "output_type": "stream",
     "text": [
      "['octopus', 'lobster', 'whale', 'swordfish']\n"
     ]
    }
   ],
   "source": [
    "reef = ['swordfish', 'shark', 'whale', 'jellyfish', 'lobster', 'squid', 'octopus']\n",
    "print(reef[::-2])  # tum listeyi tersten ama 1 atlayarak yazar\n"
   ]
  },
  {
   "cell_type": "code",
   "execution_count": 84,
   "metadata": {},
   "outputs": [
    {
     "name": "stdout",
     "output_type": "stream",
     "text": [
      "[8, 7, 6, 5]\n",
      "[]\n"
     ]
    }
   ],
   "source": [
    "# negatif adım seçersek, start degeri end degerinden buyuk olmalidir.\n",
    "\n",
    "odd_no = [1, 2, 3, 4, 5, 6, 7, 8, 9, 10]\n",
    "\n",
    "print(odd_no[7:3:-1])\n",
    "print(odd_no[2:6:-1])"
   ]
  },
  {
   "cell_type": "markdown",
   "metadata": {},
   "source": [
    "# TUPLES\n",
    "\n",
    "# Syntax: tup_1 = (True, 'Space' , 20)\n",
    "\n",
    "# Syntax: tup_2 = ([1, 2, 3],)\n",
    "\n",
    "# Syntax: tup_3 = (3+4j,)\n",
    "\n",
    "# Syntax: tup_4 = 'red', 'blue', 'pink', 'red'\n",
    "\n",
    "# Syntax: tup_5 = 1, 2, 3, 4\n",
    "\n",
    "# Syntax: tup_6 = 1+2j, 2+3j, 3+4j, 4+5j\n",
    "\n",
    "# Syntax: tup_7 = tuple('Space')\n",
    "\n",
    "# Syntax: tup_8 = tuple([1, 2, 3, 4])\n",
    "\n",
    "## Normal parantez ve virgul kullanilir\n",
    "\n",
    "## immutable yani degistirilemez\n",
    "\n",
    "## İndekslenebilir.\n",
    "\n",
    "## icinde birden cok veri tipi saklanır.\n",
    "\n",
    "## .append, .remove calismaz. \n",
    "\n",
    "## Daha hizlidir."
   ]
  },
  {
   "cell_type": "code",
   "execution_count": 44,
   "metadata": {},
   "outputs": [
    {
     "name": "stdout",
     "output_type": "stream",
     "text": [
      "()\n",
      "<class 'tuple'>\n",
      "0\n"
     ]
    }
   ],
   "source": [
    "# bos tuple olusturalim\n",
    "\n",
    "empty_tuple = ()\n",
    "\n",
    "print(empty_tuple)  # bos bir tuple olusturduk\n",
    "print(type(empty_tuple))  # sinifi tuple\n",
    "print(len(empty_tuple))  # eleman sayisi 0"
   ]
  },
  {
   "cell_type": "code",
   "execution_count": 2,
   "metadata": {},
   "outputs": [
    {
     "name": "stdout",
     "output_type": "stream",
     "text": [
      "love\n",
      "4\n",
      "<class 'str'>\n",
      "('love',)\n",
      "1\n",
      "<class 'tuple'>\n"
     ]
    }
   ],
   "source": [
    "try_tuple = ('love')\n",
    "print(try_tuple)\n",
    "print(len(try_tuple))\n",
    "print(type(try_tuple)) # virgul eklemezsek bunu string kabul eder.\n",
    "\n",
    "try_tuple = ('love',)  # virgul ekleyince tek elemanli tuple olustu\n",
    "print(try_tuple)\n",
    "print(len(try_tuple))\n",
    "print(type(try_tuple))"
   ]
  },
  {
   "cell_type": "code",
   "execution_count": 99,
   "metadata": {},
   "outputs": [
    {
     "name": "stdout",
     "output_type": "stream",
     "text": [
      "('mercury', 'jupiter', 'saturn')\n",
      "<class 'tuple'>\n",
      "<class 'tuple'>\n"
     ]
    }
   ],
   "source": [
    "planets = 'mercury', 'jupiter', 'saturn' # birden cok elemanli tuple olusturmak icin araya virgul koymak yeterli\n",
    "planets2 = ('mercury', 'jupiter', 'saturn')  # parantezli yada parantezsiz farketmez ikisi de tuple olur\n",
    "\n",
    "print(planets)\n",
    "print(type(planets))\n",
    "print(type(planets2))"
   ]
  },
  {
   "cell_type": "code",
   "execution_count": 115,
   "metadata": {},
   "outputs": [
    {
     "name": "stdout",
     "output_type": "stream",
     "text": [
      "()\n",
      "<class 'tuple'>\n",
      "0\n"
     ]
    }
   ],
   "source": [
    "# tuple fonksiyonu\n",
    "empty_tuple_1 = tuple()\n",
    "\n",
    "print(empty_tuple_1)  # bos bir tuple olusturduk\n",
    "print(type(empty_tuple_1))  # sinifi tuple\n",
    "print(len(empty_tuple_1))  # eleman sayisi 0"
   ]
  },
  {
   "cell_type": "code",
   "execution_count": 118,
   "metadata": {},
   "outputs": [
    {
     "name": "stdout",
     "output_type": "stream",
     "text": [
      "<class 'list'> [1, 4, 3, 4, 5, 6, 7, 4]\n",
      "<class 'tuple'> (1, 4, 3, 4, 5, 6, 7, 4)\n"
     ]
    }
   ],
   "source": [
    "# list ve tuple lari birbirine donusturelim\n",
    "my_tuple=(1, 4, 3, 4, 5, 6, 7, 4)  # normal parantez, bu bir tuple\n",
    "my_list = list(my_tuple)  # list fonksiyonu ile tuple list e cevrildi\n",
    "print(type(my_list), my_list)\n",
    "\n",
    "my_list = [1, 4, 3, 4, 5, 6, 7, 4]  # koseli parantez, bu bir list\n",
    "my_tuple = tuple(my_list)  # tuple fonksiyonu ile list tuple a cevrildi\n",
    "print(type(my_tuple), my_tuple)"
   ]
  },
  {
   "cell_type": "code",
   "execution_count": 123,
   "metadata": {},
   "outputs": [
    {
     "name": "stdout",
     "output_type": "stream",
     "text": [
      "('A', 'l', 'p', 's') <class 'tuple'> 4\n"
     ]
    }
   ],
   "source": [
    "# stringi tuple a cevirelim\n",
    "mountain = tuple('Alps')\n",
    "\n",
    "print(mountain, type(mountain), len(mountain))"
   ]
  },
  {
   "cell_type": "code",
   "execution_count": 124,
   "metadata": {},
   "outputs": [
    {
     "name": "stdout",
     "output_type": "stream",
     "text": [
      "4\n"
     ]
    }
   ],
   "source": [
    "# farkli degerleri ayni tuple a atayalim\n",
    "mix_value_tuple = (0, 'bird', 3.14, True)\n",
    "\n",
    "print(len(mix_value_tuple))"
   ]
  },
  {
   "cell_type": "code",
   "execution_count": 125,
   "metadata": {},
   "outputs": [
    {
     "name": "stdout",
     "output_type": "stream",
     "text": [
      "0\n",
      "2\n",
      "4\n"
     ]
    },
    {
     "ename": "IndexError",
     "evalue": "tuple index out of range",
     "output_type": "error",
     "traceback": [
      "\u001b[1;31m---------------------------------------------------------------------------\u001b[0m",
      "\u001b[1;31mIndexError\u001b[0m                                Traceback (most recent call last)",
      "\u001b[1;32m<ipython-input-125-a22fdf8ca5f4>\u001b[0m in \u001b[0;36m<module>\u001b[1;34m\u001b[0m\n\u001b[0;32m      4\u001b[0m \u001b[0mprint\u001b[0m\u001b[1;33m(\u001b[0m\u001b[0meven_no\u001b[0m\u001b[1;33m[\u001b[0m\u001b[1;36m1\u001b[0m\u001b[1;33m]\u001b[0m\u001b[1;33m)\u001b[0m\u001b[1;33m\u001b[0m\u001b[1;33m\u001b[0m\u001b[0m\n\u001b[0;32m      5\u001b[0m \u001b[0mprint\u001b[0m\u001b[1;33m(\u001b[0m\u001b[0meven_no\u001b[0m\u001b[1;33m[\u001b[0m\u001b[1;36m2\u001b[0m\u001b[1;33m]\u001b[0m\u001b[1;33m)\u001b[0m\u001b[1;33m\u001b[0m\u001b[1;33m\u001b[0m\u001b[0m\n\u001b[1;32m----> 6\u001b[1;33m \u001b[0mprint\u001b[0m\u001b[1;33m(\u001b[0m\u001b[0meven_no\u001b[0m\u001b[1;33m[\u001b[0m\u001b[1;36m3\u001b[0m\u001b[1;33m]\u001b[0m\u001b[1;33m)\u001b[0m\u001b[1;33m\u001b[0m\u001b[1;33m\u001b[0m\u001b[0m\n\u001b[0m",
      "\u001b[1;31mIndexError\u001b[0m: tuple index out of range"
     ]
    }
   ],
   "source": [
    "# tuple da indeksleme\n",
    "even_no = (0, 2, 4)\n",
    "print(even_no[0])  # 0.indeksi yazar \n",
    "print(even_no[1])  # 1.indeksi yazar   \n",
    "print(even_no[2])  # 2.indeksi yazar  \n",
    "print(even_no[3])  # 3.indeksi olmadigi icin yazamaz hata verir. out of range yani boyutu astiniz! "
   ]
  },
  {
   "cell_type": "code",
   "execution_count": 127,
   "metadata": {},
   "outputs": [
    {
     "name": "stdout",
     "output_type": "stream",
     "text": [
      "['Athens', 'Cairo', 'Moskow', 'Dublin']\n"
     ]
    },
    {
     "ename": "TypeError",
     "evalue": "'tuple' object does not support item assignment",
     "output_type": "error",
     "traceback": [
      "\u001b[1;31m---------------------------------------------------------------------------\u001b[0m",
      "\u001b[1;31mTypeError\u001b[0m                                 Traceback (most recent call last)",
      "\u001b[1;32m<ipython-input-127-beaaae9a9467>\u001b[0m in \u001b[0;36m<module>\u001b[1;34m\u001b[0m\n\u001b[0;32m      7\u001b[0m \u001b[1;33m\u001b[0m\u001b[0m\n\u001b[0;32m      8\u001b[0m \u001b[0mcity_tuple\u001b[0m \u001b[1;33m=\u001b[0m \u001b[0mtuple\u001b[0m\u001b[1;33m(\u001b[0m\u001b[0mcity_list\u001b[0m\u001b[1;33m)\u001b[0m\u001b[1;33m\u001b[0m\u001b[1;33m\u001b[0m\u001b[0m\n\u001b[1;32m----> 9\u001b[1;33m \u001b[0mcity_tuple\u001b[0m\u001b[1;33m[\u001b[0m\u001b[1;36m0\u001b[0m\u001b[1;33m]\u001b[0m \u001b[1;33m=\u001b[0m \u001b[1;34m'New York'\u001b[0m  \u001b[1;31m# you can't assign a value\u001b[0m\u001b[1;33m\u001b[0m\u001b[1;33m\u001b[0m\u001b[0m\n\u001b[0m",
      "\u001b[1;31mTypeError\u001b[0m: 'tuple' object does not support item assignment"
     ]
    }
   ],
   "source": [
    "# tuple immutable oldugu icin, list deki gibi assignment yani atama yapamiyoruz!\n",
    "city_list = ['Tokyo', 'Istanbul', 'Moskow', 'Dublin']  # bu bir list ve asagidaki gibi atama yapabiliriz\n",
    "\n",
    "city_list[0] = 'Athens'  # 'Tokyo' yerine 'Athens' atandi\n",
    "city_list[1] = 'Cairo'  # 'Istanbul' yerine 'Cairo' atandi\n",
    "print(city_list)\n",
    "\n",
    "city_tuple = tuple(city_list)  # list'i tuple'a cevirdik\n",
    "city_tuple[0] = 'New York'  # Burada tuple'in 0.indeksine 'New York' un atamasi yapilamaz. hata verir!"
   ]
  },
  {
   "cell_type": "code",
   "execution_count": 128,
   "metadata": {},
   "outputs": [
    {
     "ename": "AttributeError",
     "evalue": "'tuple' object has no attribute 'append'",
     "output_type": "error",
     "traceback": [
      "\u001b[1;31m---------------------------------------------------------------------------\u001b[0m",
      "\u001b[1;31mAttributeError\u001b[0m                            Traceback (most recent call last)",
      "\u001b[1;32m<ipython-input-128-0ca9ec98ccea>\u001b[0m in \u001b[0;36m<module>\u001b[1;34m\u001b[0m\n\u001b[0;32m      1\u001b[0m \u001b[0mmix_value\u001b[0m \u001b[1;33m=\u001b[0m \u001b[1;33m(\u001b[0m\u001b[1;36m10\u001b[0m\u001b[1;33m,\u001b[0m \u001b[1;32mFalse\u001b[0m\u001b[1;33m,\u001b[0m \u001b[1;34m'fruit'\u001b[0m\u001b[1;33m,\u001b[0m \u001b[1;36m1.618\u001b[0m\u001b[1;33m)\u001b[0m\u001b[1;33m\u001b[0m\u001b[1;33m\u001b[0m\u001b[0m\n\u001b[1;32m----> 2\u001b[1;33m \u001b[0mmix_value\u001b[0m\u001b[1;33m.\u001b[0m\u001b[0mappend\u001b[0m\u001b[1;33m(\u001b[0m\u001b[1;33m[\u001b[0m\u001b[1;34m'vegetable'\u001b[0m\u001b[1;33m,\u001b[0m \u001b[1;36m2\u001b[0m\u001b[1;33m+\u001b[0m\u001b[1;36m3j\u001b[0m\u001b[1;33m]\u001b[0m\u001b[1;33m)\u001b[0m\u001b[1;33m\u001b[0m\u001b[1;33m\u001b[0m\u001b[0m\n\u001b[0m\u001b[0;32m      3\u001b[0m \u001b[1;33m\u001b[0m\u001b[0m\n\u001b[0;32m      4\u001b[0m \u001b[0mprint\u001b[0m\u001b[1;33m(\u001b[0m\u001b[0mlen\u001b[0m\u001b[1;33m(\u001b[0m\u001b[0mmix_value\u001b[0m\u001b[1;33m)\u001b[0m\u001b[1;33m)\u001b[0m\u001b[1;33m\u001b[0m\u001b[1;33m\u001b[0m\u001b[0m\n",
      "\u001b[1;31mAttributeError\u001b[0m: 'tuple' object has no attribute 'append'"
     ]
    }
   ],
   "source": [
    "mix_value = (10, False, 'fruit', 1.618)\n",
    "mix_value.append(['vegetable', 2+3j])  # tuple'a .append ile eleman ekleyemeyiz. Hata verir!\n",
    "\n",
    "print(len(mix_value))"
   ]
  },
  {
   "cell_type": "code",
   "execution_count": 13,
   "metadata": {},
   "outputs": [
    {
     "name": "stdout",
     "output_type": "stream",
     "text": [
      "['swordfish', 'shark', 'whale']\n",
      "3\n",
      "['s', 'w', 'o', 'r', 'd', 'f', 'i', 's', 'h']\n",
      "9\n"
     ]
    }
   ],
   "source": [
    "reef1 = ['swordfish', 'shark', 'whale']\n",
    "reef2 = list(reef1)\n",
    "\n",
    "reef3 = 'swordfish'\n",
    "reef4 = list(reef3)\n",
    "\n",
    "print(reef2)\n",
    "print(len(reef2))\n",
    "\n",
    "print(reef4)\n",
    "print(len(reef4))"
   ]
  },
  {
   "cell_type": "code",
   "execution_count": 14,
   "metadata": {},
   "outputs": [
    {
     "name": "stdout",
     "output_type": "stream",
     "text": [
      "[1, 2, 3, 4]\n"
     ]
    }
   ],
   "source": [
    "nm = list()\n",
    "nm.append(1)\n",
    "nm.append(2)\n",
    "nm.append(3)\n",
    "nm.append(4)\n",
    "print(nm)"
   ]
  },
  {
   "cell_type": "code",
   "execution_count": 17,
   "metadata": {},
   "outputs": [
    {
     "name": "stdout",
     "output_type": "stream",
     "text": [
      "[1, 4, 9, 7]\n",
      "[1, 4, 6, 9, 7]\n"
     ]
    }
   ],
   "source": [
    "nm = [1, 4, 7]\n",
    "nm.insert(2, 9)\n",
    "print(nm)\n",
    "nm.insert(2, 6)\n",
    "print(nm)"
   ]
  },
  {
   "cell_type": "code",
   "execution_count": 23,
   "metadata": {},
   "outputs": [
    {
     "name": "stdout",
     "output_type": "stream",
     "text": [
      "[1, 2, 3, 4]\n",
      "[1, 2, 3, 4, 5]\n"
     ]
    }
   ],
   "source": [
    "a = list(range(1,5))\n",
    "print(a)\n",
    "a.insert(4, 5)\n",
    "print(a)"
   ]
  },
  {
   "cell_type": "code",
   "execution_count": 27,
   "metadata": {},
   "outputs": [
    {
     "name": "stdout",
     "output_type": "stream",
     "text": [
      "[1, 2, 3, 4, 5]\n"
     ]
    }
   ],
   "source": [
    "numbers = [1,2,3,4]\n",
    "numbers.insert(4,5)\n",
    "print(numbers)"
   ]
  },
  {
   "cell_type": "code",
   "execution_count": 29,
   "metadata": {},
   "outputs": [
    {
     "ename": "TypeError",
     "evalue": "'<' not supported between instances of 'int' and 'str'",
     "output_type": "error",
     "traceback": [
      "\u001b[1;31m---------------------------------------------------------------------------\u001b[0m",
      "\u001b[1;31mTypeError\u001b[0m                                 Traceback (most recent call last)",
      "\u001b[1;32m<ipython-input-29-cf819d43deb0>\u001b[0m in \u001b[0;36m<module>\u001b[1;34m\u001b[0m\n\u001b[0;32m      1\u001b[0m \u001b[0ma\u001b[0m \u001b[1;33m=\u001b[0m \u001b[1;33m[\u001b[0m\u001b[1;34m'd'\u001b[0m\u001b[1;33m,\u001b[0m \u001b[1;36m1\u001b[0m\u001b[1;33m,\u001b[0m \u001b[1;34m'a'\u001b[0m\u001b[1;33m,\u001b[0m \u001b[1;36m7\u001b[0m\u001b[1;33m]\u001b[0m\u001b[1;33m\u001b[0m\u001b[1;33m\u001b[0m\u001b[0m\n\u001b[1;32m----> 2\u001b[1;33m \u001b[0ma\u001b[0m\u001b[1;33m.\u001b[0m\u001b[0msort\u001b[0m\u001b[1;33m(\u001b[0m\u001b[1;33m)\u001b[0m\u001b[1;33m\u001b[0m\u001b[1;33m\u001b[0m\u001b[0m\n\u001b[0m\u001b[0;32m      3\u001b[0m \u001b[0mprint\u001b[0m\u001b[1;33m(\u001b[0m\u001b[0ma\u001b[0m\u001b[1;33m)\u001b[0m\u001b[1;33m\u001b[0m\u001b[1;33m\u001b[0m\u001b[0m\n",
      "\u001b[1;31mTypeError\u001b[0m: '<' not supported between instances of 'int' and 'str'"
     ]
    }
   ],
   "source": [
    "a = ['d', 1, 'a', 7]\n",
    "a.sort()\n",
    "print(a)"
   ]
  },
  {
   "cell_type": "code",
   "execution_count": 38,
   "metadata": {},
   "outputs": [
    {
     "name": "stdout",
     "output_type": "stream",
     "text": [
      "['four', 'nine', 'one']\n",
      "['*-', '@', 'False']\n",
      "[False, True]\n",
      "[[-12], [3], [44]]\n",
      "[[-12, 1], [-12, 1, -1], [1, 3], [44, -40]]\n"
     ]
    }
   ],
   "source": [
    "list1 = ['one', 'four', 'nine']\n",
    "list1.sort()\n",
    "print(list1)\n",
    "\n",
    "list2 = ['*-', '@', 'False']\n",
    "list2.sort()\n",
    "print(list2)\n",
    "\n",
    "list3 = [True, False]\n",
    "list3.sort()\n",
    "print(list3)\n",
    "\n",
    "list4 = [[3], [44], [-12]]\n",
    "list4.sort()\n",
    "print(list4)\n",
    "\n",
    "list5 = [[1, 3], [44, -40], [-12, 1, -1], [-12, 1]]\n",
    "list5.sort()\n",
    "print(list5)"
   ]
  },
  {
   "cell_type": "code",
   "execution_count": 50,
   "metadata": {},
   "outputs": [
    {
     "name": "stdout",
     "output_type": "stream",
     "text": [
      "[0, 1, 2, 3, 4, 5, 6, 7, 8, 9, 10]\n",
      "<class 'list'>\n",
      "11\n",
      "\n",
      "(0, 1, 2, 3, 4, 5, 6, 7, 8, 9, 10)\n",
      "<class 'tuple'>\n",
      "11\n"
     ]
    }
   ],
   "source": [
    "n1 = list(range(11))\n",
    "print(n1)\n",
    "print(type(n1))\n",
    "print(len(n1))\n",
    "\n",
    "print()\n",
    "\n",
    "n2 = tuple(range(11))\n",
    "print(n2)\n",
    "print(type(n2))\n",
    "print(len(n2))"
   ]
  },
  {
   "cell_type": "code",
   "execution_count": 51,
   "metadata": {},
   "outputs": [
    {
     "data": {
      "text/plain": [
       "[0, 1, 2, 3, 4, 5, 6, 7, 8, 9, 10]"
      ]
     },
     "execution_count": 51,
     "metadata": {},
     "output_type": "execute_result"
    }
   ],
   "source": [
    "n1 = list(range(11))\n",
    "n1\n"
   ]
  },
  {
   "cell_type": "code",
   "execution_count": 59,
   "metadata": {},
   "outputs": [
    {
     "name": "stdout",
     "output_type": "stream",
     "text": [
      "1 1 2 3 4\n",
      "['one', 'two', 'three']\n"
     ]
    }
   ],
   "source": [
    "mlist = [1, [1, \"one\", 2, \"two\", 3, \"three\"], 4]\n",
    "print(mlist[0], mlist[1][0], mlist[1][2], mlist[1][4], mlist[2]) # sadece int leri secip alalim\n",
    "print(mlist[1][1::2])  # sadece string leri alalim"
   ]
  },
  {
   "cell_type": "markdown",
   "metadata": {},
   "source": [
    "# Dictionaries\n",
    "\n",
    "# Syntax: dict_1 = {'key1': 'value1', 'key2': 'value2', 'key3': 'value3'}\n",
    "\n",
    "## Mutable (degistirilebilir)\n",
    "\n",
    "## İndekslenemez.\n",
    "\n",
    "## icinde birden cok veri tipi saklanır.\n",
    "\n",
    "## dict suslu parantez, virgul ve iki nokta üst üste kullanarak olusturulur.\n",
    "\n",
    "## dict icinde birden cok item (key-value çifti) saklanır.\n",
    "\n",
    "## dict() fonksiyonu ile de dictionary olusturulabilir. \n",
    "\n",
    "## dict() fonksiyonu ile dictionary olustururken key icin tırnak isareti kullanılmaz."
   ]
  },
  {
   "cell_type": "code",
   "execution_count": 8,
   "metadata": {},
   "outputs": [
    {
     "name": "stdout",
     "output_type": "stream",
     "text": [
      "{}\n",
      "{}\n",
      "<class 'dict'>\n",
      "<class 'dict'>\n",
      "0\n",
      "0\n"
     ]
    }
   ],
   "source": [
    "empty_dict_1 = {}\n",
    "empty_dict_2 = dict()\n",
    "\n",
    "print(empty_dict_1)\n",
    "print(empty_dict_2)\n",
    "\n",
    "print(type(empty_dict_1))\n",
    "print(type(empty_dict_2))\n",
    "\n",
    "print(len(empty_dict_1))\n",
    "print(len(empty_dict_2))"
   ]
  },
  {
   "cell_type": "code",
   "execution_count": 14,
   "metadata": {},
   "outputs": [
    {
     "name": "stdout",
     "output_type": "stream",
     "text": [
      "{'key1': 'value1', 'key2': 'value2', 'key3': 'value3'}\n"
     ]
    }
   ],
   "source": [
    "my_dict = {'key1': 'value1', 'key2': 'value2', 'key3': 'value3'}\n",
    "print(my_dict)"
   ]
  },
  {
   "cell_type": "code",
   "execution_count": 17,
   "metadata": {},
   "outputs": [
    {
     "name": "stdout",
     "output_type": "stream",
     "text": [
      "Denver\n"
     ]
    }
   ],
   "source": [
    "# Accessing Items\n",
    "# Bir item a ulasmak koseli parantez kullanarak yapilir.\n",
    "# accessing (ulasip okuma) islemi koseli parantez ile yapilir\n",
    "\n",
    "state_capitals = {'Arkansas': 'Little Rock',\n",
    "                  'Colorado': 'Denver',\n",
    "                  'California': 'Sacramento',\n",
    "                  'Georgia': 'Atlanta' \n",
    "                 }\n",
    "print(state_capitals['Colorado']) # accessing method"
   ]
  },
  {
   "cell_type": "code",
   "execution_count": 18,
   "metadata": {},
   "outputs": [
    {
     "name": "stdout",
     "output_type": "stream",
     "text": [
      "{'Arkansas': 'Little Rock', 'Colorado': 'Denver', 'California': 'Sacramento', 'Georgia': 'Atlanta', 'Virginia': 'Richmond'}\n"
     ]
    }
   ],
   "source": [
    "# bir key'e bir value assign ederek ekleme yapalim (adding)\n",
    "# yeni bir key-value ciftini ekleme islemi key'i koseli parantezde gostererek yapilir\n",
    "\n",
    "state_capitals = {'Arkansas': 'Little Rock',\n",
    "                  'Colorado': 'Denver',\n",
    "                  'California': 'Sacramento',\n",
    "                  'Georgia': 'Atlanta' \n",
    "                 }\n",
    "\n",
    "state_capitals['Virginia'] = 'Richmond' # adding a new item by assigning \n",
    "\n",
    "print(state_capitals)"
   ]
  },
  {
   "cell_type": "code",
   "execution_count": 22,
   "metadata": {},
   "outputs": [
    {
     "name": "stdout",
     "output_type": "stream",
     "text": [
      "{'animal': ('dog', 'cat'), 'planet': ['Neptun', 'Saturn', 'Jupiter'], 'number': 40, 'pi': 3.14, 'is_good': True}\n",
      "5\n",
      "<class 'dict'>\n"
     ]
    }
   ],
   "source": [
    "# farkli tipte degerleri icerebilir\n",
    "\n",
    "mix_dict = {'animal': ('dog', 'cat'),  # tuple type\n",
    "            'planet': ['Neptun', 'Saturn', 'Jupiter'],  # list type\n",
    "            'number': 40,  # int type\n",
    "            'pi': 3.14,  # float type\n",
    "            'is_good': True}  # bool type\n",
    "\n",
    "print(mix_dict)\n",
    "print(len(mix_dict))\n",
    "print(type(mix_dict))"
   ]
  },
  {
   "cell_type": "code",
   "execution_count": 29,
   "metadata": {},
   "outputs": [
    {
     "name": "stdout",
     "output_type": "stream",
     "text": [
      "{'animal': ('dog', 'cat'), 'planet': ['Neptun', 'Saturn', 'Jupiter'], 'number': 40, 'pi': 3.14, 'is_good': True}\n",
      "5\n"
     ]
    }
   ],
   "source": [
    "# yukaridakinin aynisini dict fonksiyonu ile olusturalim\n",
    "# dict fonksiyonu kullanilirken key icin tırnak ('') kullanmıyoruz!\n",
    "\n",
    "dict_by_dict = dict(animal=('dog', 'cat'), planet=['Neptun', 'Saturn', 'Jupiter'], number=40, pi=3.14, is_good=True)\n",
    "\n",
    "print(dict_by_dict)\n",
    "print(len(dict_by_dict))"
   ]
  },
  {
   "cell_type": "code",
   "execution_count": 27,
   "metadata": {},
   "outputs": [
    {
     "name": "stdout",
     "output_type": "stream",
     "text": [
      "{'animal': 'dog', 'planet': 'neptun', 'number': 40, 'pi': 3.14, 'is_good': True}\n",
      "5\n"
     ]
    }
   ],
   "source": [
    "# yukaridaki ornekte ufak bir degisiklik yapalim\n",
    "# list ve tuple tiplerini kullanmayalim. \n",
    "# Bunun yerine dog ve neptun stringlerini kullanalim\n",
    "\n",
    "dict_by_dict = dict(animal='dog', planet='neptun', number=40, pi=3.14, is_good=True)\n",
    "\n",
    "print(dict_by_dict)\n",
    "print(len(dict_by_dict))"
   ]
  },
  {
   "cell_type": "markdown",
   "metadata": {},
   "source": [
    "## Main Operations with Dictionaries"
   ]
  },
  {
   "cell_type": "code",
   "execution_count": 32,
   "metadata": {},
   "outputs": [
    {
     "name": "stdout",
     "output_type": "stream",
     "text": [
      "dict_items([('animal', 'dog'), ('planet', 'neptun'), ('number', 40), ('pi', 3.14), ('is_good', True)]) \n",
      "\n",
      "dict_keys(['animal', 'planet', 'number', 'pi', 'is_good']) \n",
      "\n",
      "dict_values(['dog', 'neptun', 40, 3.14, True])\n"
     ]
    }
   ],
   "source": [
    "# items, keys ve values a ulasmak icin bircok yontem vardir.\n",
    "# .items() method, \n",
    "# .keys() method, \n",
    "# .values() method\n",
    "\n",
    "dict1 = {'animal': 'dog',\n",
    "        'planet': 'neptun',\n",
    "        'number': 40,\n",
    "        'pi': 3.14,\n",
    "        'is_good': True}\n",
    "\n",
    "print(dict1.items(), '\\n')\n",
    "print(dict1.keys(), '\\n')\n",
    "print(dict1.values())"
   ]
  },
  {
   "cell_type": "code",
   "execution_count": 33,
   "metadata": {},
   "outputs": [
    {
     "name": "stdout",
     "output_type": "stream",
     "text": [
      "{'animal': 'dog', 'planet': 'neptun', 'number': 40, 'pi': 3.14, 'is_good': True, 'is_bad': False}\n"
     ]
    }
   ],
   "source": [
    "#.update metodu ile de dictionary icine yeni items ekleyebiliriz\n",
    "\n",
    "dict2 = {'animal': 'dog',\n",
    "         'planet': 'neptun',\n",
    "         'number': 40,\n",
    "         'pi': 3.14,\n",
    "         'is_good': True}\n",
    "\n",
    "dict2.update({'is_bad': False})\n",
    "\n",
    "print(dict2)"
   ]
  },
  {
   "cell_type": "code",
   "execution_count": 35,
   "metadata": {},
   "outputs": [
    {
     "name": "stdout",
     "output_type": "stream",
     "text": [
      "{'animal': 'dog', 'planet': 'neptun', 'number': 40, 'pi': 3.14, 'is_good': True, 'is_bad': False}\n",
      "6\n",
      "{'planet': 'neptun', 'number': 40, 'pi': 3.14, 'is_good': True, 'is_bad': False}\n",
      "5\n"
     ]
    }
   ],
   "source": [
    "# Silme islemi\n",
    "# syntax: del dictionary_name['key']\n",
    "\n",
    "dict3 = {'animal': 'dog',\n",
    "         'planet': 'neptun',\n",
    "         'number': 40,\n",
    "         'pi': 3.14,\n",
    "         'is_good': True,\n",
    "         'is_bad': False}\n",
    "\n",
    "print(dict3)\n",
    "print(len(dict3))\n",
    "\n",
    "del dict3['animal']\n",
    "print(dict3)\n",
    "print(len(dict3))"
   ]
  },
  {
   "cell_type": "code",
   "execution_count": 37,
   "metadata": {},
   "outputs": [
    {
     "name": "stdout",
     "output_type": "stream",
     "text": [
      "{'planet': 'neptun', 'number': 40, 'pi': 3.14, 'is_good': True, 'is_bad': False}\n",
      "True\n",
      "True\n",
      "False\n"
     ]
    }
   ],
   "source": [
    "# dictionary icinde bir key'in olup olmadigina bakalim\n",
    "# in ya da not in ile bakiyoruz\n",
    "# in ile baktigimiz key dictionary icinde var ise cevap true, yoksa false\n",
    "# not in ile baktigimiz key dictionary icinde yok ise cevap true, varsa false\n",
    "\n",
    "dict4 = {'planet': 'neptun',\n",
    "         'number': 40,\n",
    "         'pi': 3.14,\n",
    "         'is_good': True,\n",
    "         'is_bad': False}\n",
    "\n",
    "print(dict4)\n",
    "print('pi' in dict4) \n",
    "print('animal' not in dict4)  # az once 'animal' key ini silmistik\n",
    "print('animal' in dict4) "
   ]
  },
  {
   "cell_type": "code",
   "execution_count": 43,
   "metadata": {},
   "outputs": [
    {
     "name": "stdout",
     "output_type": "stream",
     "text": [
      "{'Harry': 29, 'Clark': 32, 'Peter': 22, 'Bruce': 36}\n",
      "32\n"
     ]
    }
   ],
   "source": [
    "student_ages = {\"Harry\": 29,\n",
    "                \"Clark\": 32,\n",
    "                \"Peter\": 22,\n",
    "                \"Bruce\": 36\n",
    "                }\n",
    "print(student_ages)\n",
    "print(student_ages['Clark'])"
   ]
  },
  {
   "cell_type": "markdown",
   "metadata": {},
   "source": [
    "## Nested Dictionaries"
   ]
  },
  {
   "cell_type": "code",
   "execution_count": 56,
   "metadata": {},
   "outputs": [
    {
     "name": "stdout",
     "output_type": "stream",
     "text": [
      "{'personal_info': {'kid': {'tom': {'class': 'intermediate', 'age': 10}, 'sue': {'class': 'elementary', 'age': 8}}, 'teen': {'joseph': {'class': 'college', 'age': 19}, 'marry': {'class': 'high school', 'age': 16}}}, 'grades_info': {'kid': {'tom': {'math': 88, 'speech': 69}, 'sue': {'math': 90, 'speech': 81}}, 'teen': {'joseph': {'coding': 80, 'math': 89}, 'marry': {'coding': 70, 'math': 96}}}} \n",
      "\n",
      "2 \n",
      "\n",
      "<class 'dict'> \n",
      "\n",
      "{'kid': {'tom': {'class': 'intermediate', 'age': 10}, 'sue': {'class': 'elementary', 'age': 8}}, 'teen': {'joseph': {'class': 'college', 'age': 19}, 'marry': {'class': 'high school', 'age': 16}}} \n",
      "\n",
      "{'kid': {'tom': {'math': 88, 'speech': 69}, 'sue': {'math': 90, 'speech': 81}}, 'teen': {'joseph': {'coding': 80, 'math': 89}, 'marry': {'coding': 70, 'math': 96}}} \n",
      "\n"
     ]
    }
   ],
   "source": [
    "# bu ornekte ic ice (nested) iki ayri dictionary var. birincisi personal_info ikincisi grades_info\n",
    "\n",
    "school_records={\n",
    "    \"personal_info\":\n",
    "        {\"kid\":{\"tom\": {\"class\": \"intermediate\", \"age\": 10},\n",
    "                \"sue\": {\"class\": \"elementary\", \"age\": 8}\n",
    "               },\n",
    "         \"teen\":{\"joseph\":{\"class\": \"college\", \"age\": 19},\n",
    "                 \"marry\":{\"class\": \"high school\", \"age\": 16}\n",
    "               },               \n",
    "        },\n",
    "        \n",
    "    \"grades_info\":\n",
    "        {\"kid\":{\"tom\": {\"math\": 88, \"speech\": 69},\n",
    "                \"sue\": {\"math\": 90, \"speech\": 81}\n",
    "               },\n",
    "         \"teen\":{\"joseph\":{\"coding\": 80, \"math\": 89},\n",
    "                 \"marry\":{\"coding\": 70, \"math\": 96}\n",
    "                },               \n",
    "        },        \n",
    "}\n",
    "\n",
    "print(school_records, '\\n')\n",
    "print(len(school_records), '\\n')\n",
    "print(type(school_records), '\\n')\n",
    "print(school_records['personal_info'], '\\n')\n",
    "print(school_records['grades_info'], '\\n')\n"
   ]
  },
  {
   "cell_type": "code",
   "execution_count": 57,
   "metadata": {},
   "outputs": [
    {
     "name": "stdout",
     "output_type": "stream",
     "text": [
      "16\n"
     ]
    }
   ],
   "source": [
    "# nested dictionary icindeki bir degere ulasalim\n",
    "\n",
    "school_records={\n",
    "    \"personal_info\":\n",
    "        {\"kid\":{\"tom\": {\"class\":\"intermediate\", \"age\":10},\n",
    "                \"sue\": {\"class\":\"elementary\", \"age\":8}\n",
    "               },\n",
    "         \"teen\":{\"joseph\":{\"class\":\"college\", \"age\":19},\n",
    "                 \"marry\":{\"class\":\"high school\", \"age\":16}\n",
    "                },               \n",
    "        },\n",
    "}\n",
    "\n",
    "# school_records dictionary de personal_info key var.\n",
    "# personal_info key icinde teen key'i var. \n",
    "# teen key icinde marry key'i var. \n",
    "# marry key icinde age key'i var. Peki son tarifledigimiz key'in value suna bakalim?\n",
    "\n",
    "print(school_records['personal_info']['teen']['marry']['age'])"
   ]
  },
  {
   "cell_type": "code",
   "execution_count": 58,
   "metadata": {},
   "outputs": [
    {
     "name": "stdout",
     "output_type": "stream",
     "text": [
      "90\n"
     ]
    }
   ],
   "source": [
    "# bir baska ornek ile pekistirelim\n",
    "# sue'nun math notu 90, bunu ekrana yazdiralim.\n",
    "\n",
    "school_records={\n",
    "    \"grades_info\":\n",
    "        {\"kid\":{\"tom\": {\"math\": 88, \"speech\": 69},\n",
    "                \"sue\": {\"math\": 90, \"speech\": 81}\n",
    "               },\n",
    "         \"teen\":{\"joseph\":{\"coding\": 80, \"math\": 89},\n",
    "                 \"marry\":{\"coding\": 70, \"math\": 96}\n",
    "                },               \n",
    "        },\n",
    "}\n",
    "\n",
    "print(school_records['grades_info']['kid']['sue']['math'])"
   ]
  },
  {
   "cell_type": "code",
   "execution_count": 60,
   "metadata": {},
   "outputs": [
    {
     "name": "stdout",
     "output_type": "stream",
     "text": [
      "22\n"
     ]
    }
   ],
   "source": [
    "# Lisa'nın yasina nasil ulasiriz\n",
    "\n",
    "customers = { \n",
    "'bank': \n",
    "{1: {'name': 'James', 'age': '27', 'sex': 'Male'}, \n",
    " 2: {'name': 'Nicole', 'age': '25', 'sex': 'Female'},  \n",
    " 3: {'name': 'Andy', 'age': '38', 'sex': 'Male'}, \n",
    " 4: {'name': 'Alex', 'age': '19', 'sex': 'Male'}, \n",
    " 5: {'name': 'Linda', 'age': '33', 'sex': 'Female'}, \n",
    "},\n",
    "'insurance':\n",
    "{1: {'name': 'Jashua', 'age': '33', 'sex': 'Male'}, \n",
    " 2: {'name': 'Marry', 'age': '66', 'sex': 'Female'},  \n",
    " 3: {'name': 'Adam', 'age': '56', 'sex': 'Male'}, \n",
    " 4: {'name': 'Samuel', 'age': '54', 'sex': 'Male'}, \n",
    " 5: {'name': 'Lisa', 'age': '22', 'sex': 'Female'},\n",
    "},\n",
    "}\n",
    "\n",
    "print(customers['insurance'][5]['age'])"
   ]
  },
  {
   "cell_type": "markdown",
   "metadata": {},
   "source": [
    "# Sets\n",
    "\n",
    "# Syntax: set1 = set([True, 'Space' , 20])\n",
    "\n",
    "# Syntax: set2 = set((True, 'Space' , 20))\n",
    "\n",
    "# Syntax: set3 = set('string')\n",
    "\n",
    "# Syntax: set4 = {True, 'Space' , 20}\n",
    "\n",
    "## Suslu parantez ya da set fonksiyonu ile set olusturulur.\n",
    "\n",
    "## Ancak bos set olusturmanın tek yolu set fonksiyonu kullanmaktır. Suslu parantezin ici bos birakilirsa dict olusur.\n",
    "\n",
    "## Mutable (degistirilebilir)\n",
    "\n",
    "## İndekslenemez.\n",
    "\n",
    "## Degerleri essizdir, tekrar eden degerlerden olusmaz.\n",
    "\n",
    "## icinde birden cok veri tipi saklanır."
   ]
  },
  {
   "cell_type": "code",
   "execution_count": 117,
   "metadata": {},
   "outputs": [
    {
     "name": "stdout",
     "output_type": "stream",
     "text": [
      "{True, 20, 'Space'}\n",
      "3\n",
      "<class 'set'> \n",
      "\n",
      "{True, 20, 'Space'}\n",
      "3\n",
      "<class 'set'> \n",
      "\n",
      "{True, 20, 'Space'}\n",
      "3\n",
      "<class 'set'> \n",
      "\n"
     ]
    }
   ],
   "source": [
    "set1 = set([True, 'Space' , 20])  # koseli parantez icerisinde yer alan list'i set'e ceviriyoruz\n",
    "set2 = set((True, 'Space' , 20))  # normal parantez icerisinde yer alan tuple'ı set'e ceviriyoruz\n",
    "set3 = {True, 'Space' , 20}  # süslü parantez ile dogrudan set olusturduk\n",
    "\n",
    "print(set1)\n",
    "print(len(set1))\n",
    "print(type(set1), '\\n')\n",
    "\n",
    "print(set2)\n",
    "print(len(set2))\n",
    "print(type(set2), '\\n')\n",
    "\n",
    "print(set3)\n",
    "print(len(set3))\n",
    "print(type(set3), '\\n')"
   ]
  },
  {
   "cell_type": "code",
   "execution_count": 142,
   "metadata": {},
   "outputs": [
    {
     "name": "stdout",
     "output_type": "stream",
     "text": [
      "[1, 2, 2, 3, 4, 5]\n",
      "<class 'list'>\n",
      "{1, 2, 3, 4, 5}\n",
      "<class 'set'>\n"
     ]
    }
   ],
   "source": [
    "a1 = [1, 2, 2, 3, 4, 5]  # bu bir list\n",
    "set_a1 = set(a1)  # set fonksiyonu ile list'den set olusturduk\n",
    "print(a1)\n",
    "print(type(a1))\n",
    "print(set_a1)\n",
    "print(type(set_a1))"
   ]
  },
  {
   "cell_type": "code",
   "execution_count": 143,
   "metadata": {},
   "outputs": [
    {
     "name": "stdout",
     "output_type": "stream",
     "text": [
      "(1, 2, 2, 3, 3, 4)\n",
      "<class 'tuple'>\n",
      "{1, 2, 3, 4}\n",
      "<class 'set'>\n"
     ]
    }
   ],
   "source": [
    "a2 = (1, 2, 2, 3, 3, 4)  # bu bir tuple\n",
    "set_a2 = set(a2)  # set fonksiyonu ile tuple'dan set olusturduk\n",
    "print(a2)\n",
    "print(type(a2))\n",
    "print(set_a2)\n",
    "print(type(set_a2))"
   ]
  },
  {
   "cell_type": "code",
   "execution_count": 144,
   "metadata": {},
   "outputs": [
    {
     "name": "stdout",
     "output_type": "stream",
     "text": [
      "{1, 2, 3, 4}\n",
      "<class 'set'>\n"
     ]
    }
   ],
   "source": [
    "set_a3 = {1, 2, 3, 4}  # dogrudan set olusturduk\n",
    "print(set_a3)\n",
    "print(type(set_a3))"
   ]
  },
  {
   "cell_type": "code",
   "execution_count": 148,
   "metadata": {},
   "outputs": [
    {
     "name": "stdout",
     "output_type": "stream",
     "text": [
      "('rose', 'violet', 'carnation', 'rose', 'orchid', 'rose', 'orchid')\n",
      "7\n",
      "<class 'tuple'> \n",
      "\n",
      "['rose', 'violet', 'carnation', 'rose', 'orchid', 'rose', 'orchid']\n",
      "7\n",
      "<class 'list'> \n",
      "\n",
      "{'carnation', 'rose', 'violet', 'orchid'}\n",
      "4\n",
      "<class 'set'> \n",
      "\n",
      "{'carnation', 'rose', 'violet', 'orchid'}\n",
      "4\n",
      "<class 'set'> \n",
      "\n",
      "['carnation', 'rose', 'violet', 'orchid']\n",
      "4\n",
      "<class 'list'> \n",
      "\n",
      "('carnation', 'rose', 'violet', 'orchid')\n",
      "4\n",
      "<class 'tuple'> \n",
      "\n"
     ]
    }
   ],
   "source": [
    "# flower_list isimli list 7 elemanlı, içinde tekrar eden elemanlar var. rose 3 kez, orchid 2 kez tekrar ediyor.\n",
    "# flower_list isimli list'i set fonksiyonu ile flowerset1 isimli set'e cevirince tekrar eden elemanlari siliyor.\n",
    "# Dolayisiyla flowerset1 isimli set'in eleman sayisi 4 olur\n",
    "# Elaman sayisi 4 olan flowerset1 isimli set'i list fonksiyonu ile tekrar flowerlist isimli list'e cevirelim. Artik eleman sayisi 4 olur\n",
    "# Tuple'dan set'e sonra tekrar set'ten tupla'a cevirme islemini flower_tuple, flowerset2, flowertuple uclusu icin de yaptim\n",
    "\n",
    "flower_list = ['rose', 'violet', 'carnation', 'rose', 'orchid', 'rose', 'orchid']\n",
    "flower_tuple = ('rose', 'violet', 'carnation', 'rose', 'orchid', 'rose', 'orchid')\n",
    "flowerset1 = set(flower_list)\n",
    "flowerset2 = set(flower_tuple)\n",
    "flowerlist = list(flowerset1)\n",
    "flowertuple = tuple(flowerset2)\n",
    "\n",
    "print(flower_tuple)\n",
    "print(len(flower_tuple))\n",
    "print(type(flower_tuple), '\\n')\n",
    "\n",
    "print(flower_list)\n",
    "print(len(flower_list))\n",
    "print(type(flower_list), '\\n')\n",
    "\n",
    "print(flowerset1) \n",
    "print(len(flowerset1))\n",
    "print(type(flowerset1), '\\n')\n",
    "\n",
    "print(flowerset2) \n",
    "print(len(flowerset2))\n",
    "print(type(flowerset2), '\\n')\n",
    "\n",
    "print(flowerlist)\n",
    "print(len(flowerlist))\n",
    "print(type(flowerlist), '\\n')\n",
    "\n",
    "print(flowertuple)\n",
    "print(len(flowertuple))\n",
    "print(type(flowertuple), '\\n')"
   ]
  },
  {
   "cell_type": "code",
   "execution_count": 149,
   "metadata": {},
   "outputs": [
    {
     "name": "stdout",
     "output_type": "stream",
     "text": [
      "{'orange', 'darkblue', 'purple', 'red', 'yellow'}\n",
      "{'orange', 'darkblue', 'purple', 'red', 'yellow'}\n"
     ]
    }
   ],
   "source": [
    "colorset = {'purple', 'orange', 'red', 'darkblue', 'yellow', 'red'}\n",
    "\n",
    "# ders notlarinda her print denemesinde farkli sirada gorecegiz deniyor \n",
    "# ama burada sanirim jupter den kaynakli hep ayni cevap geliyor\n",
    "\n",
    "print(colorset)\n",
    "print(colorset)"
   ]
  },
  {
   "cell_type": "code",
   "execution_count": 159,
   "metadata": {},
   "outputs": [
    {
     "name": "stdout",
     "output_type": "stream",
     "text": [
      "{'e', 's', 'l', 'u', 'i', 'h', 'f', 'n'}\n"
     ]
    }
   ],
   "source": [
    "# bir stringi set fonksiyonu ile set'e cevirebiliriz. Yine tekrar eden elemanlar silinir\n",
    "s = set('unselfishness')\n",
    "\n",
    "print(s) "
   ]
  },
  {
   "cell_type": "markdown",
   "metadata": {},
   "source": [
    "## Main Operations with Sets"
   ]
  },
  {
   "cell_type": "code",
   "execution_count": 160,
   "metadata": {},
   "outputs": [],
   "source": [
    "# Sete bir item ekleme ya da setten bir item silmek icin farkli metotlar vardir\n",
    "# Dahası, kümelerin kesişme, birleşme ve farklılaşma yöntemlerine sahibiz.\n",
    "# .add() : Kümeye yeni bir öğe ekler.\n",
    "# .remove() : Bir öğeyi silmemizi sağlar.\n",
    "# .intersection() : İki kümenin kesişimini döndürür. \n",
    "# .union() : İki kümenin birleşmesini döndürür.\n",
    "# .difference() : İki setin farkını alır."
   ]
  },
  {
   "cell_type": "code",
   "execution_count": 198,
   "metadata": {},
   "outputs": [
    {
     "name": "stdout",
     "output_type": "stream",
     "text": [
      "{'r', 'c', 'd', 'a', 'b'}\n"
     ]
    }
   ],
   "source": [
    "a1 = set('abracadabra')\n",
    "\n",
    "print(a1)  "
   ]
  },
  {
   "cell_type": "code",
   "execution_count": 199,
   "metadata": {},
   "outputs": [
    {
     "name": "stdout",
     "output_type": "stream",
     "text": [
      "{'r', 'c', 'd', 'a', 'b'}\n",
      "{'l', 'c', 'z', 'm', 'a'}\n",
      "{'r', 'b', 'd'}\n",
      "{'r', 'b', 'd'}\n"
     ]
    }
   ],
   "source": [
    "# fark islemi\n",
    "\n",
    "a2 = set('abracadabra')\n",
    "b2 = set('alacazam')\n",
    "\n",
    "print(a2)\n",
    "print(b2)\n",
    "\n",
    "print(a2 - b2)  # '.difference()' methodu ile ayni sonucu verir\n",
    "print(a2.difference(b2)) # a nin b den farki\n"
   ]
  },
  {
   "cell_type": "code",
   "execution_count": 213,
   "metadata": {},
   "outputs": [
    {
     "name": "stdout",
     "output_type": "stream",
     "text": [
      "{'r', 'l', 'c', 'z', 'm', 'd', 'a', 'b'}\n",
      "a3 ile b3 nin birlesimi:  {'r', 'l', 'c', 'z', 'm', 'd', 'a', 'b'}\n",
      "a3 ile b3 nin birlesimi:  {'r', 'l', 'c', 'z', 'm', 'd', 'a', 'b'}\n"
     ]
    }
   ],
   "source": [
    "# birlesim islemi\n",
    "\n",
    "a3 = set('abracadabra')\n",
    "b3 = set('alacazam')\n",
    "\n",
    "birlesim = a3.union(b3)\n",
    "print(birlesim)\n",
    "\n",
    "print(\"a3 ile b3 nin birlesimi: \", a3 | b3)  # '.union()' methodu ile ayni sonucu verir. birlesim isareti klavyede Alt+124\n",
    "print(\"a3 ile b3 nin birlesimi: \", a3.union(b3)) # a ile b nin birlesimi"
   ]
  },
  {
   "cell_type": "code",
   "execution_count": 4,
   "metadata": {},
   "outputs": [
    {
     "name": "stdout",
     "output_type": "stream",
     "text": [
      "{'a', 'c'}\n",
      "True\n",
      "{'a', 'c'}\n",
      "True\n",
      "a4 ile b4 nin kesisimi:  {'a', 'c'}\n",
      "a4 ile b4 nin kesisimi:  {'a', 'c'}\n"
     ]
    }
   ],
   "source": [
    "# kesisim islemi\n",
    "\n",
    "a4 = set('abracadabra')\n",
    "b4 = set('alacazam')\n",
    "\n",
    "kesisim1 = a4.intersection(b4)\n",
    "print(kesisim1)\n",
    "print(bool(kesisim1))  # kesisim kumesi dolu oldugu icin bool donusumu True degeri dondu. bos olsaydı False donecekti\n",
    "\n",
    "kesisim2 = a4 & b4\n",
    "print(kesisim2)\n",
    "print(bool(kesisim2))  \n",
    "\n",
    "\n",
    "print(\"a4 ile b4 nin kesisimi: \", a4 & b4)  # '.intersection()' methodu ile ayni sonucu verir.\n",
    "print(\"a4 ile b4 nin kesisimi: \", a4.intersection(b4)) # a ile b nin kesisimi"
   ]
  },
  {
   "cell_type": "code",
   "execution_count": 206,
   "metadata": {},
   "outputs": [
    {
     "name": "stdout",
     "output_type": "stream",
     "text": [
      "{'r', 'c', 'd', 'a', 'b'}\n",
      "5\n",
      "{'r', 'd', 'a', 'b'}\n",
      "4\n",
      "{'r', 'c', 'd', 'a', 'b'}\n",
      "5\n"
     ]
    }
   ],
   "source": [
    "# silme ve ekleme islemi\n",
    "\n",
    "a5 = set('abracadabra')\n",
    "print(a5)\n",
    "print(len(a5))\n",
    "\n",
    "a5.remove('c') # c yi set'den silelim\n",
    "print(a5)\n",
    "print(len(a5))\n",
    "\n",
    "a5.add('c') # c yi tekrar set'e ekleyelim\n",
    "print(a5)\n",
    "print(len(a5))"
   ]
  },
  {
   "cell_type": "code",
   "execution_count": 207,
   "metadata": {},
   "outputs": [
    {
     "name": "stdout",
     "output_type": "stream",
     "text": [
      "{'r', 'c', 'd', 'a', 'b'}\n",
      "True\n",
      "True\n",
      "False\n"
     ]
    }
   ],
   "source": [
    "# set'in icinde birseyin olup olmadigina bakalim\n",
    "\n",
    "a6 = set('abracadabra')\n",
    "print(a6)\n",
    "\n",
    "print('c' in a6) \n",
    "print('w' not in a6)\n",
    "print('w' in a6) "
   ]
  },
  {
   "cell_type": "code",
   "execution_count": 214,
   "metadata": {},
   "outputs": [
    {
     "name": "stdout",
     "output_type": "stream",
     "text": [
      "True\n",
      "True\n"
     ]
    }
   ],
   "source": [
    "print('m' in birlesim) \n",
    "print('a' in kesisim) "
   ]
  },
  {
   "cell_type": "code",
   "execution_count": null,
   "metadata": {},
   "outputs": [],
   "source": []
  }
 ],
 "metadata": {
  "kernelspec": {
   "display_name": "Python 3",
   "language": "python",
   "name": "python3"
  },
  "language_info": {
   "codemirror_mode": {
    "name": "ipython",
    "version": 3
   },
   "file_extension": ".py",
   "mimetype": "text/x-python",
   "name": "python",
   "nbconvert_exporter": "python",
   "pygments_lexer": "ipython3",
   "version": "3.7.6"
  }
 },
 "nbformat": 4,
 "nbformat_minor": 4
}
