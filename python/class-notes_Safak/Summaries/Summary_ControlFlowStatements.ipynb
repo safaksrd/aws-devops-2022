{
 "cells": [
  {
   "cell_type": "markdown",
   "metadata": {},
   "source": [
    "# Conditional Statements"
   ]
  },
  {
   "cell_type": "markdown",
   "metadata": {},
   "source": [
    "## Structure of the 'if' Statements"
   ]
  },
  {
   "cell_type": "markdown",
   "metadata": {},
   "source": [
    "if condition:\n",
    "    body  # the body code should start at indentation (four spaces)"
   ]
  },
  {
   "cell_type": "markdown",
   "metadata": {},
   "source": [
    "if ifadesi koşulu (şartı) kontrol eder. Bu kosul her zaman Boolean ifadesidir yani sonucu ya True ya False dir.\n",
    "True hesaplanirsa if in altindaki ifade gerceklestirilir, aksi halde if altindaki ifade gerceklestirilmez."
   ]
  },
  {
   "cell_type": "code",
   "execution_count": null,
   "metadata": {},
   "outputs": [],
   "source": [
    "if True:\n",
    "    print('it is true')"
   ]
  },
  {
   "cell_type": "code",
   "execution_count": null,
   "metadata": {},
   "outputs": [],
   "source": [
    "empty_seat = 14\n",
    "\n",
    "if empty_seat > 3:  # in this case, 14>3=True, so the body will execute\n",
    "    print('there is still seat to sit')"
   ]
  },
  {
   "cell_type": "markdown",
   "metadata": {},
   "source": [
    "kosuldan sonra : kullanılır, alt satıra gecince tab bırakılır"
   ]
  },
  {
   "cell_type": "markdown",
   "metadata": {},
   "source": [
    "## Comparison Operators"
   ]
  },
  {
   "cell_type": "markdown",
   "metadata": {},
   "source": [
    "Boolean values basically make it clear if a piece of code needs to be executed. Because comparisons result in bool, it's always best to use them as a condition."
   ]
  },
  {
   "cell_type": "markdown",
   "metadata": {},
   "source": [
    "==\tiki deger esitse True, aksi halde False doner.\t2 == 2 (True), 2 == 3 (False)\n",
    "!=\tiki deger esit degilse True, aksi halde False doner. \t2 != 2 (False), 2 != 3 (True)\n",
    ">\tSoldaki deger sagdakinden buyukse True, aksi halde False doner.\t3 > 2 (True), 2 > 3 (False)\n",
    "<\tSoldaki deger sagdakinden kucukse True, aksi halde False doner\t2 < 3 (True), 3 < 2 (False)\n",
    ">=\tSoldaki deger sagdakinden buyuk veya esitse True, aksi halde False doner\t3 >= 2 (True), 3 >= 3 (True), 2 >= 3 (False)\n",
    "<=\tSoldaki deger sagdakinden kucuk veya esitse True, aksi halde False doner\t3 <= 2 (False), 3 <= 3 (True), 2 <= 3 (True)"
   ]
  },
  {
   "cell_type": "code",
   "execution_count": null,
   "metadata": {},
   "outputs": [],
   "source": [
    "x = 6\n",
    "y = 9\n",
    "print (\"is x equal to y?                 :\" , x == y)\n",
    "print (\"is x not equal to y?             :\" , x != y)\n",
    "print (\"is x less than y?                :\" , x < y)\n",
    "print (\"is x greater than y?             :\" , x > y)\n",
    "print (\"is x less than or equal to y?    :\" , x <= y)\n",
    "print (\"is x greater than or equal to y? :\" , x >= y)"
   ]
  },
  {
   "cell_type": "markdown",
   "metadata": {},
   "source": [
    "## 'if-else' Statements"
   ]
  },
  {
   "cell_type": "markdown",
   "metadata": {},
   "source": [
    "if condition1:  \n",
    "    execute body1\n",
    "else : # if condition1 is not ensured execute body2\n",
    "    execute body2"
   ]
  },
  {
   "cell_type": "markdown",
   "metadata": {},
   "source": [
    "else kosul gerektirmez. body2 4 bosluk tab a ister"
   ]
  },
  {
   "cell_type": "code",
   "execution_count": null,
   "metadata": {},
   "outputs": [],
   "source": [
    "course = 'clarusway'\n",
    "\n",
    "if course == \"clarusway\":\n",
    "    print(\"you guaranteed the job\")\n",
    "else:\n",
    "    print(\"think about it again\")"
   ]
  },
  {
   "cell_type": "code",
   "execution_count": null,
   "metadata": {},
   "outputs": [],
   "source": [
    "number = 5\n",
    "if number <= 3:    \n",
    "    print(\"Number is smaller than or equal to 3\") \n",
    "else:  # Optional clause (you can only have one else)\n",
    "    print(\"Number is bigger than 3\")"
   ]
  },
  {
   "cell_type": "markdown",
   "metadata": {},
   "source": [
    "## 'if-elif-else' Statements"
   ]
  },
  {
   "cell_type": "markdown",
   "metadata": {},
   "source": [
    "if condition1:\n",
    "    execute body1\n",
    "\n",
    "elif condition2:\n",
    "    execute body2\n",
    "\n",
    "else:\n",
    "    execute body3"
   ]
  },
  {
   "cell_type": "markdown",
   "metadata": {},
   "source": [
    "if 1.kosulu yapar, \n",
    "elif sonuncu kosula kadar olan geri kalan kosullara bakar,\n",
    "else diger kosullarda olmuyorsa buna gelir.\n",
    "Yukaridan asagiya dogru calisir."
   ]
  },
  {
   "cell_type": "code",
   "execution_count": null,
   "metadata": {},
   "outputs": [],
   "source": [
    "weight = 80\n",
    "\n",
    "if weight > 100:\n",
    "    print(\"That's too heavy!\")\n",
    "elif weight > 75:\n",
    "    print(\"I can lift that!\")\n",
    "else:\n",
    "    print(\"That's too light!\")"
   ]
  },
  {
   "cell_type": "code",
   "execution_count": null,
   "metadata": {},
   "outputs": [],
   "source": [
    "audience = \"baby\"\n",
    "\n",
    "if audience == \"kid\":\n",
    "    print(\"it is free to go to cinema\")\n",
    "elif audience == \"teen\":\n",
    "    print(\"discounted price!\")\n",
    "elif audience == \"adult\":\n",
    "    print(\"normal price\")\n",
    "else:\n",
    "    print(\"No such audience, stay at your home!\")"
   ]
  },
  {
   "cell_type": "code",
   "execution_count": null,
   "metadata": {},
   "outputs": [],
   "source": [
    "Write a program that satisfies the given conditions below. Define the name of the variable as number.\n",
    "\n",
    "If the number is equal or greater than 10, print : 'The number is equal or greater than 10',\n",
    "If the number is less than 10, print : 'The number is less than 10'.\n",
    "\n",
    "Note that; Suppose the number is 23. number = 23 is pre-defined for you. \n",
    "You don't need to use the input() function or assign another value to variable number."
   ]
  },
  {
   "cell_type": "code",
   "execution_count": null,
   "metadata": {},
   "outputs": [],
   "source": [
    "number = 23\n",
    "if number >= 10:\n",
    "    print('The number is equal or greater than 10')\n",
    "else:\n",
    "    print('The number is less than 10')"
   ]
  },
  {
   "cell_type": "markdown",
   "metadata": {},
   "source": [
    "## Nested 'if-elif-else' Statements"
   ]
  },
  {
   "cell_type": "markdown",
   "metadata": {},
   "source": [
    "if-else ve if-elif ifadeleri icice olabilir."
   ]
  },
  {
   "cell_type": "code",
   "execution_count": null,
   "metadata": {},
   "outputs": [],
   "source": [
    "audience_group = 'kid', 'teen', 'adult'\n",
    "\n",
    "audience = \"baby\"\n",
    "\n",
    "# tab girintilerine dikkat! if'in altinda if-elif-else blogu var\n",
    "\n",
    "if audience in audience_group:  # in operatoru boolean sonuc verir\n",
    "    if audience == \"kid\":\n",
    "        print(\"it is free to go to cinema\")\n",
    "    elif audience == \"teen\":\n",
    "        print(\"discounted price!\")\n",
    "    else: # audience == \"adult\":\n",
    "        print(\"normal price\")\n",
    "else:\n",
    "    print(\"No such audience, stay at your home!\")"
   ]
  },
  {
   "cell_type": "code",
   "execution_count": null,
   "metadata": {},
   "outputs": [],
   "source": [
    "score = int (input(\"Enter your score :\"))\n",
    "\n",
    "if score >= 90:\n",
    "    if score >= 95:\n",
    "        Score_letter=\"A+\"\n",
    "    else:\n",
    "        Score_letter=\"A\"\n",
    "elif score >= 80:\n",
    "    if score >= 85:\n",
    "        Score_letter=\"B+\"\n",
    "    else:\n",
    "        Score_letter=\"B\"\n",
    "else:\n",
    "    Score_letter=\"below B\"\n",
    "\n",
    "print (\"Your degree: %s\" % Score_letter)"
   ]
  },
  {
   "cell_type": "code",
   "execution_count": null,
   "metadata": {},
   "outputs": [],
   "source": [
    "benim =[\"kagit\", \"kalem\", \"masa\", \"kitap\"]\n",
    "\"kagit\" in benim"
   ]
  },
  {
   "cell_type": "markdown",
   "metadata": {},
   "source": [
    "# Loops"
   ]
  },
  {
   "cell_type": "markdown",
   "metadata": {},
   "source": [
    "Bazen sadece kosula bagli kodu calistirmak yetmez, belli bir sure kodun calismaya devam etmesini isteriz\n",
    "Bunun en bilindik yolu dongulerdir.\n",
    "while ve for dongulerini inceleyecegiz."
   ]
  },
  {
   "cell_type": "markdown",
   "metadata": {},
   "source": [
    "## 'while' Loop"
   ]
  },
  {
   "cell_type": "markdown",
   "metadata": {},
   "source": [
    "while dongusu if deki gibi boolean logic e sahiptir.\n",
    "Kosulun sonucu True cikmaya devam ettikce dongu calismaya devam eder, kosul False a donerse dongu durur ve program bir sonraki operasyona gecer."
   ]
  },
  {
   "cell_type": "markdown",
   "metadata": {},
   "source": [
    "while condition:\n",
    "   body"
   ]
  },
  {
   "cell_type": "code",
   "execution_count": null,
   "metadata": {},
   "outputs": [],
   "source": [
    "number = 0\n",
    "\n",
    "while number < 6:\n",
    "    print(number)\n",
    "    number += 1\n",
    "print('now, number is bigger or equal to 6')"
   ]
  },
  {
   "cell_type": "code",
   "execution_count": null,
   "metadata": {},
   "outputs": [],
   "source": [
    "Sonsuz bir dongu olusmasini istemiyorsak, donguden cikmayi saglayacak False kosulunu belirlemeyi unutmamaliyiz!!!"
   ]
  },
  {
   "cell_type": "code",
   "execution_count": null,
   "metadata": {},
   "outputs": [],
   "source": [
    "my_list=[\"a\", \"b\", \"c\", \"d\", \"e\"]\n",
    "\n",
    "a = 0  # baslangic degeri 0\n",
    "\n",
    "while a < len(my_list):  # listenin uzunlugu 5, 5'ten kucuk oldugu surece dongu calisir, sonra durur. <= dersek 5'e kadar devam eder\n",
    "    print('square of {} is : {}'.format(a, a**2))\n",
    "    a+=1  # a her adimda 1 artar. a += 1 ile a = a + 1 aynidir unutmayalim!"
   ]
  },
  {
   "cell_type": "code",
   "execution_count": null,
   "metadata": {},
   "outputs": [],
   "source": [
    "answer = 28\n",
    "\n",
    "# question = 'What number am I thinking of? ' bu degiskeni burada tanimlamak sart degil \n",
    "\n",
    "print (\"I wanna play with you:)\")\n",
    "\n",
    "condition = True  # bu degiskeni burada tanimlamak sart degil. burada condition u silersek while in yanina yazmaliyiz\n",
    "\n",
    "while condition:  # yukarida condition degiskeni tanimlayip while'a condition yazabiliriz. \n",
    "                  # Ya da condition = True degiskenini yukarıdan silip buraya while True: yazabiliriz.\n",
    "    guess = int(input('What number am I thinking of? '))  # guess = int(input(question))\n",
    "\n",
    "    if guess < answer:\n",
    "        print('higher please')\n",
    "    elif guess > answer:\n",
    "        print('lower please')\n",
    "    else:  # guess == answer\n",
    "        print('Congrats!!!')\n",
    "        break  # while dongusunun disina cikmayi saglar. yoksa sonsuz donguye girer."
   ]
  },
  {
   "cell_type": "code",
   "execution_count": null,
   "metadata": {},
   "outputs": [],
   "source": [
    "# 2. cozum. \n",
    "answer = 33\n",
    "guess = 0\n",
    "\n",
    "while not answer == guess:\n",
    "    guess = int(input(\"enter your guess: \"))\n",
    "    if guess < answer:\n",
    "        print(\"higher please\")\n",
    "    elif guess > answer:\n",
    "        print(\"lower please\")\n",
    "print (\"You are right\")"
   ]
  },
  {
   "cell_type": "code",
   "execution_count": null,
   "metadata": {},
   "outputs": [],
   "source": [
    "age = input(\"please enter your age: \")\n",
    "\n",
    "while not age.isdigit():  # string olan bir ifadeyi kontrol eder. \\\n",
    "                          # True if all chars in the string are digits. False, if at least one char is not a digit.\n",
    "    \n",
    "    print(\"You entered incorrectly!\")\n",
    "    age = input(\"please check your input and again enter your age: \")\n",
    "\n",
    "print(f\"Great! You entered valid input: {age}\")"
   ]
  },
  {
   "cell_type": "code",
   "execution_count": null,
   "metadata": {},
   "outputs": [],
   "source": [
    "\"a1234\".isdigit()"
   ]
  },
  {
   "cell_type": "code",
   "execution_count": null,
   "metadata": {},
   "outputs": [],
   "source": [
    "\"1234\".isdigit()"
   ]
  },
  {
   "cell_type": "code",
   "execution_count": null,
   "metadata": {},
   "outputs": [],
   "source": [
    "# cumle icindeki en uzun kelimenin uzunlugunu bulma\n",
    "# 1.cozum\n",
    "\n",
    "sentence = input(\"Give me a sentence : \")\n",
    "word_list = sentence.split(\" \") # icine hangi karakteri baz alsın onu ekleyebiliyoruz. \n",
    "                                # bosluk ekleyince saginda solunda bosluk olan elemanlari birbirinden ayiriyor\n",
    "\n",
    "i = 0\n",
    "longest = 0\n",
    "\n",
    "while i <= (len(word_list)-1):\n",
    "    if len(word_list[i]) > longest:\n",
    "        longest = len(word_list[i])\n",
    "        longest_word = word_list[i]\n",
    "    i += 1 \n",
    "print(sentence, longest_word, longest, sep= \"\\n\")  # buraya en uzun kelimeyi cikti almaya calis. 3.cozumden yararlanabilirsin!!"
   ]
  },
  {
   "cell_type": "code",
   "execution_count": null,
   "metadata": {},
   "outputs": [],
   "source": [
    "# cumle icindeki en uzun kelimenin uzunlugunu bulma\n",
    "# 3.cozum while dongulu ve en euzun kelimenin ne oldugunu gostererek\n",
    "\n",
    "sentence = input(\"Lutfen bir cumle giriniz\")\n",
    "word_list = sentence.split()\n",
    "longest_word = word_list[0]\n",
    "\n",
    "i = 0\n",
    "while i < len(sentence_list):\n",
    "    if len(word_list[i]) > len(longest_word):\n",
    "        longest_word = word_list[i]\n",
    "    i += 1\n",
    "print(\"Longest word is {} and it contains {} characters\".format(longest_word, len(longest_word)))"
   ]
  },
  {
   "cell_type": "code",
   "execution_count": null,
   "metadata": {},
   "outputs": [],
   "source": [
    "# cumle icindeki en uzun kelimenin uzunlugunu bulma\n",
    "# 2.cozum while dongusu olmadan\n",
    "\n",
    "word = input(\"Please insert a sentence :\")\n",
    "print(word)\n",
    "new_word = word.split()\n",
    "len(word)\n",
    "new_word.sort(key=len, reverse = True)\n",
    "print(new_word)\n",
    "print(f\"{new_word[0]} {len(new_word[0])}\")"
   ]
  },
  {
   "cell_type": "code",
   "execution_count": null,
   "metadata": {},
   "outputs": [],
   "source": [
    "# 3, 6, 9, 12 ve 15 icin yazar\n",
    "a = 3\n",
    "while a**2 < 299:\n",
    "    print('I will stop smoking')\n",
    "    a += 3"
   ]
  },
  {
   "cell_type": "code",
   "execution_count": null,
   "metadata": {},
   "outputs": [],
   "source": [
    "# lets practice\n",
    "\n",
    "flowers = ['Rose', 'Orchid', 'Tulip']\n",
    "count1 = len(flowers)\n",
    "count2 = 0\n",
    "\n",
    "while count1>0 :\n",
    "    print(flowers[count2])\n",
    "    count1 -= 1\n",
    "    count2 += 1"
   ]
  },
  {
   "cell_type": "code",
   "execution_count": null,
   "metadata": {},
   "outputs": [],
   "source": []
  },
  {
   "cell_type": "markdown",
   "metadata": {},
   "source": [
    "## 'for' Loop"
   ]
  },
  {
   "cell_type": "markdown",
   "metadata": {},
   "source": [
    "You'll learn one of the most used, very simple and useful syntaxes in Python: for loop. When you want to iterate a block of code you will use for loop. To create a for loop, you need a variable and an iterable object. Here is the simple structure of a for loop :"
   ]
  },
  {
   "cell_type": "markdown",
   "metadata": {},
   "source": [
    "for variable in iterable :\n",
    "    code block"
   ]
  },
  {
   "cell_type": "code",
   "execution_count": null,
   "metadata": {
    "scrolled": true
   },
   "outputs": [],
   "source": [
    "for i in [1, 2, 3, 4, 5] :\n",
    "    print(i)"
   ]
  },
  {
   "cell_type": "code",
   "execution_count": null,
   "metadata": {},
   "outputs": [],
   "source": [
    "seasons = ['spring', 'summer', 'autumn', 'winter']\n",
    "\n",
    "for season in seasons :\n",
    "    print(season)"
   ]
  },
  {
   "cell_type": "code",
   "execution_count": null,
   "metadata": {},
   "outputs": [],
   "source": []
  },
  {
   "cell_type": "markdown",
   "metadata": {},
   "source": [
    "amstrong number1\n",
    "\n",
    "number = input(\"Please enter a number: \")\n",
    "sum = 0\n",
    "while not number.isnumeric():\n",
    "   print(\"It is an invalid entry. Don't use non-numeric, float, or negative values!\")\n",
    "   number = input(\"Please enter a number: \")\n",
    "if number.isnumeric():\n",
    "   for i in range(len(number)):\n",
    "        sum += int(number[i])**len(number)\n",
    "   if  sum == int(number):\n",
    "        print(\"{} is an Armstrong number\".format(int(number)))\n",
    "   else:\n",
    "       print(\"{} is not an Armstrong number\".format(int(number)))"
   ]
  },
  {
   "cell_type": "markdown",
   "metadata": {},
   "source": [
    "amstrong number2\n",
    "num =input(\"Please enter a number :\")\n",
    "if num.isdigit() != True:\n",
    "   print((\"It is an invalid entry. Don`t use non-numeric, float or negative values!\"))\n",
    "else:\n",
    "   num_list = list(num)\n",
    "   i = 1\n",
    "   total = 0\n",
    "   while i <= (len(num_list)):\n",
    "       total += int(num_list[i-1])**len(num_list)\n",
    "       i += 1\n",
    "   if num == total:\n",
    "       print(f\"{num} is an Armstrong number\")\n",
    "   else:\n",
    "       print(f\"{num} is not an Armstrong number\" )"
   ]
  },
  {
   "cell_type": "markdown",
   "metadata": {},
   "source": [
    "amstrong number3\n",
    "number = (input(\"Please enter a positive integer number     :\"))\n",
    "while number.isnumeric()==False:\n",
    "    print(\"Unaccepted entry!)\")\n",
    "    number = (input(\"Please enter a positive integer number     :\"))\n",
    "number= int(number)\n",
    "box =[int(x) for x in str(number)] \n",
    "p=0\n",
    "for i in box:\n",
    "    p += (i**len(box))\n",
    "if p==number:\n",
    "    print(\"It is a n-Armstong number\")\n",
    "else:\n",
    "    print(\"It is not a n-Armstong number\")\n",
    "[1:44 AM] .isnumeric sayı olup olmadığını kontrol ediyor. doğruysa true yanlışsa false veriyor"
   ]
  },
  {
   "cell_type": "markdown",
   "metadata": {},
   "source": [
    "amstrong number4\n",
    "x = input(\"pls enter a number: \")\n",
    "b, c, d, e = len(x), list(x), 0, {\"1\",\"2\",\"3\",\"4\",\"5\",\"6\",\"7\",\"8\",\"9\",\"0\"}\n",
    "fark = set(c)-e\n",
    "while not fark:\n",
    "   for i in c:\n",
    "       d += int(i)**b\n",
    "   if int(x) == d:\n",
    "       print(f\"{x} is a Armstrong Number\")\n",
    "       break\n",
    "   else:\n",
    "       print(f\"{x} is NOT a Armstrong Number\")\n",
    "       break\n",
    "else:\n",
    "   print(\"It is an invalid entry. Don't use non-numeric, float, or negative values!\")"
   ]
  },
  {
   "cell_type": "markdown",
   "metadata": {},
   "source": [
    "for a in b:          -> key\n",
    "for a in b.values(): -> value\n",
    "for a in b.items():  -> key-value"
   ]
  },
  {
   "cell_type": "code",
   "execution_count": null,
   "metadata": {},
   "outputs": [],
   "source": []
  },
  {
   "cell_type": "code",
   "execution_count": null,
   "metadata": {},
   "outputs": [],
   "source": [
    "iterable = [1, 2, 3, 4]\n",
    "for i in iterable:\n",
    "    print(f\"The square of {i} is {i**2}\")"
   ]
  },
  {
   "cell_type": "code",
   "execution_count": null,
   "metadata": {},
   "outputs": [],
   "source": [
    "iterable = [1, 2, 3, 4]\n",
    "for i in iterable:\n",
    "    print(f\"{i**2}\")"
   ]
  },
  {
   "cell_type": "code",
   "execution_count": null,
   "metadata": {},
   "outputs": [],
   "source": [
    "mevsimler = [\"yaz\", \"sonbahar\", \"kis\", \"ilkbahar\"]\n",
    "for i in mevsimler :\n",
    "    print(i)\n"
   ]
  },
  {
   "cell_type": "code",
   "execution_count": null,
   "metadata": {},
   "outputs": [],
   "source": [
    "names = [\"ahmet\", \"aisha\", \"adam\", \"joseph\", \"gabriel\"]\n",
    "for k in names: # : koymayi unutma hata veriyor!!\n",
    "    print(\"hello\", k)"
   ]
  },
  {
   "cell_type": "code",
   "execution_count": null,
   "metadata": {},
   "outputs": [],
   "source": [
    "numbers= []\n",
    "for  i in range(1, 6):\n",
    "    numbers.append(i)\n",
    "    print(numbers)  # print bir tab girintili olursa her adimdaki listeyi yaziyor."
   ]
  },
  {
   "cell_type": "code",
   "execution_count": null,
   "metadata": {},
   "outputs": [],
   "source": [
    "numbers= []\n",
    "for  i in range(1, 6):\n",
    "    numbers.append(i)\n",
    "print(numbers)   # print bir tab girintili olmaz ise son adimdaki listeyi yaziyor"
   ]
  },
  {
   "cell_type": "markdown",
   "metadata": {},
   "source": [
    "for a in b: -> key\n",
    "for a in b.values(): -> value\n",
    "for a in b.items(): -> key-value"
   ]
  },
  {
   "cell_type": "markdown",
   "metadata": {},
   "source": [
    "range(start, stop, step)\n",
    "buradan sayi dizisi elde ediyoruz. sonra bu fonksiyonun basina set, list yada tuple yazarak tipini degistirebiliyoruz.\n",
    "tek basina range icini gostermez, naz yapar. \n",
    "basina asteriks (*) koyarsak a, b, c gibi bir degiskene atamadan da içerisini iterate yapabiliyoruz\n",
    "\n",
    "a = list(range(0, 10))\n",
    "b = set(range(0, 10))\n",
    "c = tuple(range(0, 10))\n",
    "\n",
    "print(a)\n",
    "print(b)\n",
    "print(c)"
   ]
  },
  {
   "cell_type": "code",
   "execution_count": null,
   "metadata": {},
   "outputs": [],
   "source": [
    "a = list(range(0, 10))\n",
    "b = set(range(0, 10))\n",
    "c = tuple(range(0, 10))\n",
    "\n",
    "print(a)\n",
    "print(b)\n",
    "print(c)"
   ]
  },
  {
   "cell_type": "code",
   "execution_count": null,
   "metadata": {},
   "outputs": [],
   "source": [
    "print(range(5))"
   ]
  },
  {
   "cell_type": "code",
   "execution_count": null,
   "metadata": {},
   "outputs": [],
   "source": [
    "print(*range(5))"
   ]
  },
  {
   "cell_type": "code",
   "execution_count": null,
   "metadata": {},
   "outputs": [],
   "source": [
    "print(*range(5, 25, 2))"
   ]
  },
  {
   "cell_type": "code",
   "execution_count": null,
   "metadata": {},
   "outputs": [],
   "source": [
    "print(*\"seperate\")"
   ]
  },
  {
   "cell_type": "code",
   "execution_count": null,
   "metadata": {},
   "outputs": [],
   "source": [
    "print(*('seperate'))"
   ]
  },
  {
   "cell_type": "code",
   "execution_count": null,
   "metadata": {},
   "outputs": [],
   "source": [
    "print(*range(10, 0, -2))"
   ]
  },
  {
   "cell_type": "code",
   "execution_count": null,
   "metadata": {},
   "outputs": [],
   "source": [
    "print(*range(10, 0, 0.5))"
   ]
  },
  {
   "cell_type": "code",
   "execution_count": null,
   "metadata": {
    "scrolled": true
   },
   "outputs": [],
   "source": [
    "course = 'clarusway'\n",
    "\n",
    "for i in course :\n",
    "    print(i)"
   ]
  },
  {
   "cell_type": "code",
   "execution_count": null,
   "metadata": {},
   "outputs": [],
   "source": [
    "course = 'clarusway'\n",
    "\n",
    "for i in course :\n",
    "    print(i, end = ' ')"
   ]
  },
  {
   "cell_type": "code",
   "execution_count": null,
   "metadata": {},
   "outputs": [],
   "source": [
    "course = 'clarusway'\n",
    "\n",
    "for i in course :\n",
    "    print(i, end = ' & ')"
   ]
  },
  {
   "cell_type": "code",
   "execution_count": null,
   "metadata": {},
   "outputs": [],
   "source": [
    "times = int(input(\"How many times should I say 'I love you'\"))\n",
    "\n",
    "for i in range(times):\n",
    "    print('I love you')"
   ]
  },
  {
   "cell_type": "code",
   "execution_count": null,
   "metadata": {},
   "outputs": [],
   "source": [
    "# string.format ile yapalim\n",
    "n = int(input('enter a number between 1-10'))\n",
    "\n",
    "for i in range(11):\n",
    "    print('{}x{} = '.format(n, i), n*i)"
   ]
  },
  {
   "cell_type": "code",
   "execution_count": null,
   "metadata": {},
   "outputs": [],
   "source": [
    "# f.string format ile yapalim\n",
    "number = int(input(\"sayi giriniz : \"))\n",
    "for i in range(11):\n",
    "    print(f\"{number}x{i} = {number*i}\")"
   ]
  },
  {
   "cell_type": "code",
   "execution_count": null,
   "metadata": {},
   "outputs": [],
   "source": [
    "# % format ile yapalim\n",
    "number = int(input(\"sayi giriniz : \"))\n",
    "for i in range(11):\n",
    "    print(\"%d x %d = %d\" %(number, i, i**2))"
   ]
  },
  {
   "cell_type": "code",
   "execution_count": null,
   "metadata": {},
   "outputs": [],
   "source": [
    "# zip fonksiyonu\n",
    "# 2 tane collection, 2 tane iterable ı birbirine kenetliyor, ve size tek bir for loop kurmanızı sagliyor\n",
    "# bir ondan bir digerinden cekerek tuple ciftleri olusturuyor ('one', 1), ('two', 2) vb..\n",
    "\n",
    "text = ['one','two','three','four','five']\n",
    "numbers = [1, 2, 3, 4, 5]\n",
    "for x, y in zip(text, numbers):\n",
    "    print(x, ':', y)\n"
   ]
  },
  {
   "cell_type": "code",
   "execution_count": null,
   "metadata": {},
   "outputs": [],
   "source": [
    "# iki iterable ın boyutu esit olmaz ise kısa olan iterable ı referans alır.\n",
    "\n",
    "letters = [\"a\", \"b\", \"c\", \"d\"]\n",
    "number = [1,2,3,4,5]\n",
    "for i,j in zip(letters, numbers):\n",
    "    print(i, j)"
   ]
  },
  {
   "cell_type": "code",
   "execution_count": null,
   "metadata": {},
   "outputs": [],
   "source": [
    "#ayni range gibi bu da nazli hemen acilmiyor\n",
    "print(zip(letters, numbers))"
   ]
  },
  {
   "cell_type": "code",
   "execution_count": null,
   "metadata": {
    "scrolled": true
   },
   "outputs": [],
   "source": [
    "#basina list koyunca nazi gecti acildi. elemanlari tuple olan bir liste verir\n",
    "\n",
    "print(list(zip(letters, numbers)))"
   ]
  },
  {
   "cell_type": "code",
   "execution_count": null,
   "metadata": {},
   "outputs": [],
   "source": [
    "#basina dict koyalim. key- value ciftlerini olusturdu gayet kullanisli\n",
    "print(dict(zip(letters, numbers)))"
   ]
  },
  {
   "cell_type": "code",
   "execution_count": null,
   "metadata": {},
   "outputs": [],
   "source": [
    "evens = []\n",
    "odds = []\n",
    "\n",
    "for i in range(10):\n",
    "    if i % 2 == 0:\n",
    "        evens.append(i)\n",
    "    else:\n",
    "        odds.append(i)\n",
    "        \n",
    "print(\"evens :\", evens)\n",
    "print(\"odds :\", odds)        "
   ]
  },
  {
   "cell_type": "code",
   "execution_count": null,
   "metadata": {},
   "outputs": [],
   "source": [
    "numbers = [11, 2, 24, 44, 46, 33, 3, 52]\n",
    "cift = 0\n",
    "tek = 0\n",
    "\n",
    "for i in numbers:\n",
    "    if i % 2 == 0:  # hoca burayi if not i % 2: yazarak yapti. Ornegin 11 i alalim, if not 11 % 2 dersek if not 1 olur. \n",
    "                    # not 1 nedir False! Dolayisiyla if False olursa if in altindakini yapmaz ve else in altina gecer\n",
    "        cift +=1\n",
    "    else:\n",
    "        tek+=1\n",
    "    \n",
    "print(\"teklerin sayisi: \" , tek)\n",
    "print(\"ciftlerin sayisi: \" , cift)"
   ]
  },
  {
   "cell_type": "code",
   "execution_count": null,
   "metadata": {},
   "outputs": [],
   "source": [
    "for i in range(1,10):\n",
    "        print(str(i) * i)"
   ]
  },
  {
   "cell_type": "code",
   "execution_count": null,
   "metadata": {},
   "outputs": [],
   "source": [
    "for i in range(1,10):\n",
    "    print(f\"{i}\" * i)"
   ]
  },
  {
   "cell_type": "code",
   "execution_count": null,
   "metadata": {},
   "outputs": [],
   "source": [
    "sum = 0\n",
    "for i in range(1,75):\n",
    "    sum += i\n",
    "print(sum)"
   ]
  },
  {
   "cell_type": "code",
   "execution_count": null,
   "metadata": {},
   "outputs": [],
   "source": []
  },
  {
   "cell_type": "markdown",
   "metadata": {},
   "source": [
    "## Nested Loops"
   ]
  },
  {
   "cell_type": "markdown",
   "metadata": {},
   "source": [
    "As a programmer, you may sometimes need to interact with a single element of an iterable data and all other elements simultaneously, that is, your code block in a loop can also contain a loop."
   ]
  },
  {
   "cell_type": "code",
   "execution_count": null,
   "metadata": {},
   "outputs": [],
   "source": [
    "who = ['I am ', 'You are ']\n",
    "mood = ['happy', 'confident']\n",
    "for i in who:\n",
    "    for ii in mood:\n",
    "        print(i + ii)\n"
   ]
  },
  {
   "cell_type": "code",
   "execution_count": null,
   "metadata": {},
   "outputs": [],
   "source": []
  },
  {
   "cell_type": "markdown",
   "metadata": {},
   "source": [
    "Tom, a 13-year-old boy, wants to play with PlayStation-4. Since he couldn't afford it, he started to save money to reach the price of PS4 (variable ps4_price). Let's write a program to tell him how much time left before he can play with PS4. So write a simple code that gets the amount of money Tom saved and prints one of the three options below according to saved_amount :\n",
    "\n",
    "If saved_amount is less than or equal to ps4_price/2 then print : \"You must save more, keep saving!\"\n",
    "If saved_amount is greater than ps4_price/2 then print : \"You saved more than half, keep saving!\"\n",
    "If saved_amount is greater than ps4_price then print : \"Yippee! You can buy your PS4\"\n",
    "Note: Variable ps4_price is created for you. You can use it in your code without defining it."
   ]
  },
  {
   "cell_type": "code",
   "execution_count": null,
   "metadata": {},
   "outputs": [],
   "source": [
    "ps4_price = 400\n",
    "saved_amount = int(input('Please enter your saved amount: '))\n",
    "\n",
    "if saved_amount <= (ps4_price/2):\n",
    "    print(\"You must save more, keep saving!\")\n",
    "elif (ps4_price/2) < saved_amount < (ps4_price):\n",
    "    print(\"You saved more than half, keep saving!\")\n",
    "else:\n",
    "    print(\"Yippee! You can buy your PS4\")\n"
   ]
  },
  {
   "cell_type": "markdown",
   "metadata": {},
   "source": [
    "Mrs Brown is a Math teacher. She wants to write a program that gets the numeric grades of her students, assigns them to variable math_mark and prints them as letter-based grades defined below:\n",
    "\n",
    "85-100 ➔ A (Excellent)\n",
    "70-84 ➔ B (Good)\n",
    "60-69 ➔ C (Medium)\n",
    "45-59 ➔ D (Not Bad)\n",
    "0-44 ➔ F (Failed)\n",
    "\n",
    "Write your program using if, elif and else statements."
   ]
  },
  {
   "cell_type": "code",
   "execution_count": null,
   "metadata": {},
   "outputs": [],
   "source": [
    "math_mark = int(input('Please enter the mark: '))\n",
    "if 85 <= math_mark <=100:\n",
    "    print(\"A (Excellent)\")\n",
    "elif 70 <= math_mark <=84:\n",
    "    print(\"B (Good)\")    \n",
    "elif 60 <= math_mark <=69:\n",
    "    print(\"C (Medium)\")\n",
    "elif 45 <= math_mark <=59:\n",
    "    print(\"D (Not Bad)\")  \n",
    "else:\n",
    "    print(\"F (Failed)\")    "
   ]
  },
  {
   "cell_type": "code",
   "execution_count": null,
   "metadata": {},
   "outputs": [],
   "source": [
    "998*2"
   ]
  },
  {
   "cell_type": "code",
   "execution_count": null,
   "metadata": {},
   "outputs": [],
   "source": [
    "weekdays = ['Monday', 'Tuesday', 'Wednesday', 'Thursday', 'Friday']\n",
    "for day in range(len(weekdays)):\n",
    "    print('Day', day+1, ':', weekdays[day])"
   ]
  },
  {
   "cell_type": "code",
   "execution_count": null,
   "metadata": {},
   "outputs": [],
   "source": [
    "a = 49\n",
    "while a <= 62:\n",
    "    print(a)\n",
    "    a += 5"
   ]
  },
  {
   "cell_type": "code",
   "execution_count": null,
   "metadata": {},
   "outputs": [],
   "source": [
    "a = 49\n",
    "while a % 2 != 0:\n",
    "    print(a)\n",
    "    a += 5"
   ]
  },
  {
   "cell_type": "code",
   "execution_count": null,
   "metadata": {},
   "outputs": [],
   "source": [
    "a = 49\n",
    "while a > 10:\n",
    "    print(a)\n",
    "    a += 5"
   ]
  },
  {
   "cell_type": "markdown",
   "metadata": {},
   "source": [
    "Here's a piece of a program that tells you which season include which months but an unreasonable way. Beware of the month of the season. The months in the seasons are reorganized. Give your answers according to this new arrangement."
   ]
  },
  {
   "cell_type": "markdown",
   "metadata": {},
   "source": [
    "month = \"......\"\n",
    "spring = \"September, April, January\"\n",
    "autumn = \"March, October, July\"\n",
    "\n",
    "if (month in spring) or (month in autumn):\n",
    "    if month in autumn:\n",
    "        print(\"This is a spring month\")\n",
    "    else:\n",
    "        print(\"This is an autumn month\")\n",
    "else:\n",
    "    print(\"This month is not categorized\")"
   ]
  },
  {
   "cell_type": "markdown",
   "metadata": {},
   "source": [
    "Write a program that takes a number from the user, assigns it to the variable (number), and prints the squares of all numbers between 0 and the number (not included) entered by the user.\n",
    "\n",
    "Note: Write the program with while statement."
   ]
  },
  {
   "cell_type": "code",
   "execution_count": 4,
   "metadata": {},
   "outputs": [
    {
     "name": "stdout",
     "output_type": "stream",
     "text": [
      "Please enter a number: 3\n",
      "0\n",
      "1\n",
      "4\n"
     ]
    }
   ],
   "source": [
    "number = int(input('Please enter a number: '))\n",
    "i = 0\n",
    "while i<(number):\n",
    "    print(f\"{i**2}\")\n",
    "    i+=1"
   ]
  },
  {
   "cell_type": "code",
   "execution_count": null,
   "metadata": {},
   "outputs": [],
   "source": []
  },
  {
   "cell_type": "markdown",
   "metadata": {},
   "source": [
    "Write a program that prints each item and its corresponding type from the following list.\n",
    "\n",
    "sample_list = [{\"section\":5, \"topic\":2}, 'clarusway', [1, 4], 2020, 3.14, 1+618j, False, (10, 20)]\n",
    "\n",
    "One of the output line as an example: The type of clarusway is <class 'str'>.\n",
    "\n",
    "Note: Write the program with for statement."
   ]
  },
  {
   "cell_type": "code",
   "execution_count": 14,
   "metadata": {},
   "outputs": [
    {
     "name": "stdout",
     "output_type": "stream",
     "text": [
      "The type of {'section': 5, 'topic': 2} is <class 'dict'>\n",
      "The type of clarusway is <class 'str'>\n",
      "The type of [1, 4] is <class 'list'>\n",
      "The type of 2020 is <class 'int'>\n",
      "The type of 3.14 is <class 'float'>\n",
      "The type of (1+618j) is <class 'complex'>\n",
      "The type of False is <class 'bool'>\n",
      "The type of (10, 20) is <class 'tuple'>\n"
     ]
    }
   ],
   "source": [
    "sample_list = [{\"section\":5, \"topic\":2}, 'clarusway', [1, 4], 2020, 3.14, 1+618j, False, (10, 20)]\n",
    "for i in sample_list:\n",
    "    print(f\"The type of {i} is\", type(i))"
   ]
  },
  {
   "cell_type": "code",
   "execution_count": null,
   "metadata": {},
   "outputs": [],
   "source": []
  },
  {
   "cell_type": "code",
   "execution_count": null,
   "metadata": {},
   "outputs": [],
   "source": []
  },
  {
   "cell_type": "code",
   "execution_count": null,
   "metadata": {},
   "outputs": [],
   "source": []
  },
  {
   "cell_type": "code",
   "execution_count": null,
   "metadata": {},
   "outputs": [],
   "source": []
  }
 ],
 "metadata": {
  "kernelspec": {
   "display_name": "Python 3",
   "language": "python",
   "name": "python3"
  },
  "language_info": {
   "codemirror_mode": {
    "name": "ipython",
    "version": 3
   },
   "file_extension": ".py",
   "mimetype": "text/x-python",
   "name": "python",
   "nbconvert_exporter": "python",
   "pygments_lexer": "ipython3",
   "version": "3.7.6"
  }
 },
 "nbformat": 4,
 "nbformat_minor": 4
}
