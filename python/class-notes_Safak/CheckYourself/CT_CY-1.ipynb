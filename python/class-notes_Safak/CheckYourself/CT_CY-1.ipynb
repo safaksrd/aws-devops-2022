{
 "cells": [
  {
   "cell_type": "code",
   "execution_count": 28,
   "metadata": {},
   "outputs": [
    {
     "name": "stdout",
     "output_type": "stream",
     "text": [
      "[10, 9, 8, 7, 6, 5, 4, 3, 2, 1]\n"
     ]
    }
   ],
   "source": [
    "count = list(range(1, 11))\n",
    "count.sort(reverse=True)\n",
    "\n",
    "print(count)"
   ]
  },
  {
   "cell_type": "code",
   "execution_count": 38,
   "metadata": {},
   "outputs": [
    {
     "name": "stdout",
     "output_type": "stream",
     "text": [
      "3\n",
      "['eggplant', 'spinach', 'leek']\n"
     ]
    }
   ],
   "source": [
    "grocer = [\"banana\", [\"orange\", [\"apple\", \"eggplant\", \"melon\", \"spinach\", \"cheese\", \"leek\" ], \"water\"], \"mandarin\"]\n",
    "#print(len(grocer))\n",
    "print(len(grocer[1]))\n",
    "print(grocer[1][1][1:6:2])"
   ]
  },
  {
   "cell_type": "code",
   "execution_count": 10,
   "metadata": {},
   "outputs": [
    {
     "name": "stdout",
     "output_type": "stream",
     "text": [
      "tulip\n",
      "rose\n",
      "My two favorite flowers are tulip and rose, two favorite colors are blue and green.\n",
      "My two favorite flowers are tulip and rose, two favorite colors are blue and green.\n"
     ]
    }
   ],
   "source": [
    "# text = \"My two favorite flowers are tulip and rose, two favorite colors are blue and green.\"\n",
    "\n",
    "flowers = [[\"jasmine\", [\"lavender\", \"rose\"], \"tulip\"]]\n",
    "#print(len(flowers[0]))\n",
    "print(flowers[0][2])\n",
    "print(flowers[0][1][1])\n",
    "colors = [\"red\", (\"blue\", [\"yellow\", \"green\"]), \"pink\"]\n",
    "#print(len(flowers))\n",
    "#print(len(colors))\n",
    "\n",
    "text = \"My two favorite flowers are {} and {}, two favorite colors are {} and {}.\".format(flowers[0][2], flowers[0][1][1], colors[1][0], colors[1][1][1])\n",
    "print(text)\n",
    "\n",
    "print(\"My two favorite flowers are {} and {}, two favorite colors are {} and {}.\".format(flowers[0][2], flowers[0][1][1], colors[1][0], colors[1][1][1]))"
   ]
  },
  {
   "cell_type": "markdown",
   "metadata": {},
   "source": [
    "list icinden eleman cekmek icin yanyana [] koyarak indeksleme kullanıyoruz.\n",
    "print(len(flowers)) yaparsanız eleman sayısı 1 cıkar,\n",
    "print(len(colors)) yaparsanız eleman sayısı 3 cıkar. \n",
    "Dolayısıyla flowers degiskeninde sadece 0.indekste bir eleman var. \n",
    "Ama o eleman list formatında ve kendi icinde 3 elemanı var.\n",
    "print(len(flowers[0])) yaparsanız 3 cıktıgını gorebilirsiniz.\n",
    "Bu noktadan sonra yanyana [] koyarak indekslemeye devam ediyoruz.\n",
    "Bana tulip ve rose lazım.\n",
    "print(flowers[0][2]) yazarsanız tulip, yani 0.indeksin 2.indeksindeki eleman\n",
    "print(flowers[0][1][1]) yazarsanız rose, yani 0.indeksin 1.indeksindeki (ki bu da yine bir list) 1.eleman "
   ]
  },
  {
   "cell_type": "code",
   "execution_count": 47,
   "metadata": {},
   "outputs": [
    {
     "name": "stdout",
     "output_type": "stream",
     "text": [
      "tulip\n",
      "rose\n",
      "blue\n",
      "green\n"
     ]
    }
   ],
   "source": [
    "flowers = [[\"jasmine\", [\"lavender\", \"rose\"], \"tulip\"]]\n",
    "print(flowers[0][2])\n",
    "print(flowers[0][1][1])\n",
    "print(colors[1][0])\n",
    "print(colors[1][1][1])"
   ]
  },
  {
   "cell_type": "code",
   "execution_count": 14,
   "metadata": {},
   "outputs": [
    {
     "name": "stdout",
     "output_type": "stream",
     "text": [
      "I am 40 years old. \n",
      "\tI have two children. \n",
      "\t\tData Science is my IT domain.\n",
      "I am 40 years old. \n",
      "\tI have two children. \n",
      "\t\tData Science is my IT domain.\n"
     ]
    }
   ],
   "source": [
    "escapes = [\"\\n\\t\", (\"\\t\", \"\\t\\t\"), [\"\\n\", \"\\n\\t\\t\"]]\n",
    "\n",
    "# print(escapes)\n",
    "# print(len(escapes))\n",
    "# print(type(escapes))\n",
    "\n",
    "sentence = \"I am 40 years old. {}I have two children. {}Data Science is my IT domain.\".format(\"\\n\\t\", \"\\n\\t\\t\")\n",
    "print(sentence)\n",
    "sentence = \"I am 40 years old. {}I have two children. {}Data Science is my IT domain.\".format(escapes[0], escapes[2][1])\n",
    "print(sentence)"
   ]
  },
  {
   "cell_type": "code",
   "execution_count": null,
   "metadata": {},
   "outputs": [],
   "source": [
    "old. {}I have two children. {}Data\n"
   ]
  }
 ],
 "metadata": {
  "kernelspec": {
   "display_name": "Python 3",
   "language": "python",
   "name": "python3"
  },
  "language_info": {
   "codemirror_mode": {
    "name": "ipython",
    "version": 3
   },
   "file_extension": ".py",
   "mimetype": "text/x-python",
   "name": "python",
   "nbconvert_exporter": "python",
   "pygments_lexer": "ipython3",
   "version": "3.7.6"
  }
 },
 "nbformat": 4,
 "nbformat_minor": 4
}
