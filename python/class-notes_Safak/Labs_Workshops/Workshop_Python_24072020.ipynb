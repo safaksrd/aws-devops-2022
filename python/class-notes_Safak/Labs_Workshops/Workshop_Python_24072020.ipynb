{
 "cells": [
  {
   "cell_type": "markdown",
   "metadata": {},
   "source": [
    "Workshop2_python_control_flow_loop"
   ]
  },
  {
   "cell_type": "markdown",
   "metadata": {},
   "source": [
    "SORU:1 Aldığınız kursun adına göre IT alanında meslek sahibi olup olamayacağınızı ekrana yazdıran bir kod yazın."
   ]
  },
  {
   "cell_type": "code",
   "execution_count": 3,
   "metadata": {},
   "outputs": [
    {
     "name": "stdout",
     "output_type": "stream",
     "text": [
      "Kursunuzun adı nedir?CLARUSway\n",
      "İşi garantiledin.\n"
     ]
    }
   ],
   "source": [
    "#course = \"cyber security\"\n",
    "course = input(\"Kursunuzun adı nedir?\").title()\n",
    "if course == \"Clarusway\":\n",
    "    print(\"İşi garantiledin.\")\n",
    "else:\n",
    "    print(\"Tekrar düşün.\")"
   ]
  },
  {
   "cell_type": "code",
   "execution_count": null,
   "metadata": {},
   "outputs": [],
   "source": []
  },
  {
   "cell_type": "code",
   "execution_count": null,
   "metadata": {},
   "outputs": [],
   "source": []
  },
  {
   "cell_type": "code",
   "execution_count": null,
   "metadata": {},
   "outputs": [],
   "source": []
  },
  {
   "cell_type": "markdown",
   "metadata": {},
   "source": [
    "SORU:2 Alınan ağırlık değerine göre ağırlığı kaldırıp kaldıramayacağınızı ekrana yazdıran bir kod yazınız."
   ]
  },
  {
   "cell_type": "code",
   "execution_count": 7,
   "metadata": {},
   "outputs": [
    {
     "name": "stdout",
     "output_type": "stream",
     "text": [
      "Bu çok ağır.Taşıyamam.\n"
     ]
    }
   ],
   "source": [
    "#75-100 \n",
    "weight = 105\n",
    "\n",
    "if weight > 100:\n",
    "    print(\"Bu çok ağır.Taşıyamam.\")\n",
    "elif weight > 75:\n",
    "    print(\"bu benim için ideal. Taşıyabilirim.\")\n",
    "else:\n",
    "    print(\"bu benim için çok hafif.\")\n"
   ]
  },
  {
   "cell_type": "code",
   "execution_count": null,
   "metadata": {},
   "outputs": [],
   "source": []
  },
  {
   "cell_type": "code",
   "execution_count": null,
   "metadata": {},
   "outputs": [],
   "source": []
  },
  {
   "cell_type": "code",
   "execution_count": null,
   "metadata": {},
   "outputs": [],
   "source": []
  },
  {
   "cell_type": "markdown",
   "metadata": {},
   "source": [
    "SORU:3 Girilen sayının pozitif, negatif, ya da 0 olduğunu bulan kodu yazınız."
   ]
  },
  {
   "cell_type": "code",
   "execution_count": 10,
   "metadata": {},
   "outputs": [
    {
     "name": "stdout",
     "output_type": "stream",
     "text": [
      "Bir sayı giriniz: 7\n",
      "7 pozitif bir sayıdır.\n"
     ]
    }
   ],
   "source": [
    "number = int(input(\"Bir sayı giriniz: \"))\n",
    "if number < 0:\n",
    "    print(f\"{number} negatiftir.\")\n",
    "elif number ==0:\n",
    "    print(f\"{number} sıfırdır. Nötrdür.\")\n",
    "else :\n",
    "    print(f\"{number} pozitif bir sayıdır.\")"
   ]
  },
  {
   "cell_type": "code",
   "execution_count": null,
   "metadata": {},
   "outputs": [],
   "source": []
  },
  {
   "cell_type": "markdown",
   "metadata": {},
   "source": [
    "SORU:4 Kişinin ad, kilo ve boy bilgilerini alıp kilo indekslerini hesaplayan python uygulamasını yapınız.\n",
    "\n",
    "Formül: (Kilo / boy uzunluğunun karesi)\n",
    "\n",
    "Aşağıdaki tabloya göre kişi hangi gruba girmektedir.\n",
    "\n",
    "0-18.4 => Zayıf\n",
    "\n",
    "18.5-24.9 => Normal\n",
    "\n",
    "25.0-29.9 => Fazla Kilolu\n",
    "\n",
    "30.0-34.9 => Şişman (Obez)Kişinin ad, kilo ve boy bilgilerini alıp kilo indekslerini hesaplayan python uygulamasını yapınız"
   ]
  },
  {
   "cell_type": "code",
   "execution_count": 1,
   "metadata": {},
   "outputs": [
    {
     "name": "stdout",
     "output_type": "stream",
     "text": [
      "Adınızı giriniz: Meryem\n",
      "Kilonuzu kg. olarak giriniz: 88\n",
      "Boyunuzu mt. olarak giriniz: 1.90\n",
      "Meryem kilo indeksin: 24.38 ve kilo değerlendirmen normal.\n",
      "Devam etmek istiyor musunuz?(Yes/No) No\n"
     ]
    }
   ],
   "source": [
    "gulin = True\n",
    "while gulin:\n",
    "    \n",
    "    ad = input(\"Adınızı giriniz: \")\n",
    "    kilo = float(input(\"Kilonuzu kg. olarak giriniz: \"))\n",
    "    boy = float(input(\"Boyunuzu mt. olarak giriniz: \"))\n",
    "\n",
    "    index = kilo / boy ** 2\n",
    "    if kilo < 0 or boy < 0:\n",
    "        print(\"Lütfen kilo-boy bilgilerinizi gözden geçiriniz.\")\n",
    "        gulin = True\n",
    "    else:\n",
    "        if 0<=index<=18.4:\n",
    "            print(f\"{ad} kilo indeksin: {index:.2f} ve kilo değerlendirmen zayıf.\")\n",
    "        elif 18.4<index<=24.9:\n",
    "            print(f\"{ad} kilo indeksin: {index:.2f} ve kilo değerlendirmen normal.\")\n",
    "        elif 24.9<index<=29.9:\n",
    "            print(f\"{ad} kilo indeksin: {index:.2f} ve kilo değerlendirmen fazla kilolu.\")\n",
    "        elif 29.9<index<=34.9:\n",
    "            print(f\"{ad} kilo indeksin: {index:.2f} ve kilo değerlendirmen Şişman.\")\n",
    "        else:\n",
    "            print(\"Tekrar deneyiniz.\")\n",
    "        karar = input(\"Devam etmek istiyor musunuz?(Yes/No) \")\n",
    "        if karar == \"Yes\":\n",
    "            gulin=True\n",
    "        else:\n",
    "            gulin = False"
   ]
  },
  {
   "cell_type": "code",
   "execution_count": null,
   "metadata": {},
   "outputs": [],
   "source": []
  },
  {
   "cell_type": "markdown",
   "metadata": {},
   "source": [
    "SORU:5 Meyvelerden oluşan bir liste oluştur for kullanarak ekrana yazdır:"
   ]
  },
  {
   "cell_type": "code",
   "execution_count": 4,
   "metadata": {},
   "outputs": [
    {
     "name": "stdout",
     "output_type": "stream",
     "text": [
      "armut-kavun-karpuz-elma-portakal-"
     ]
    }
   ],
   "source": [
    "meyve = [\"armut\", \"kavun\", \"karpuz\", \"elma\", \"portakal\"]\n",
    "for m in meyve:\n",
    "    print(m, end=\"-\")"
   ]
  },
  {
   "cell_type": "code",
   "execution_count": 5,
   "metadata": {},
   "outputs": [
    {
     "data": {
      "text/plain": [
       "['armut', 'kavun', 'karpuz', 'elma', 'portakal']"
      ]
     },
     "execution_count": 5,
     "metadata": {},
     "output_type": "execute_result"
    }
   ],
   "source": [
    "[m for m in meyve]"
   ]
  },
  {
   "cell_type": "code",
   "execution_count": null,
   "metadata": {},
   "outputs": [],
   "source": []
  },
  {
   "cell_type": "code",
   "execution_count": null,
   "metadata": {},
   "outputs": [],
   "source": []
  },
  {
   "cell_type": "markdown",
   "metadata": {},
   "source": [
    "SORU:6 0 ile 10 arasındaki sayıları(10 dahil) ve karelerini for kullanarak ekrana yazdır."
   ]
  },
  {
   "cell_type": "code",
   "execution_count": 8,
   "metadata": {},
   "outputs": [
    {
     "name": "stdout",
     "output_type": "stream",
     "text": [
      "0'ın karesi: 0\n",
      "1'ın karesi: 1\n",
      "2'ın karesi: 4\n",
      "3'ın karesi: 9\n",
      "4'ın karesi: 16\n",
      "5'ın karesi: 25\n",
      "6'ın karesi: 36\n",
      "7'ın karesi: 49\n",
      "8'ın karesi: 64\n",
      "9'ın karesi: 81\n",
      "10'ın karesi: 100\n"
     ]
    }
   ],
   "source": [
    "for i in range(11):\n",
    "    print(f\"{i}'ın karesi:\", i**2)"
   ]
  },
  {
   "cell_type": "code",
   "execution_count": null,
   "metadata": {},
   "outputs": [],
   "source": []
  },
  {
   "cell_type": "markdown",
   "metadata": {},
   "source": [
    "SORU:7 1 ile 10 arasında sayıları for kullanarak ekrana yazdır 5 i görünce döngüden çık."
   ]
  },
  {
   "cell_type": "code",
   "execution_count": 10,
   "metadata": {},
   "outputs": [
    {
     "name": "stdout",
     "output_type": "stream",
     "text": [
      "1\n",
      "2\n",
      "3\n",
      "4\n"
     ]
    }
   ],
   "source": [
    "for i in range(1,10):\n",
    "    if i == 5:\n",
    "        break\n",
    "    print(i)"
   ]
  },
  {
   "cell_type": "code",
   "execution_count": 11,
   "metadata": {},
   "outputs": [
    {
     "name": "stdout",
     "output_type": "stream",
     "text": [
      "1\n",
      "2\n",
      "3\n",
      "4\n",
      "6\n",
      "7\n",
      "8\n",
      "9\n"
     ]
    }
   ],
   "source": [
    "for i in range(1,10):\n",
    "    if i == 5:\n",
    "        continue   \n",
    "    print(i)"
   ]
  },
  {
   "cell_type": "code",
   "execution_count": 12,
   "metadata": {},
   "outputs": [
    {
     "name": "stdout",
     "output_type": "stream",
     "text": [
      "1\n",
      "2\n",
      "3\n",
      "4\n",
      "5\n",
      "6\n",
      "7\n",
      "8\n",
      "9\n"
     ]
    }
   ],
   "source": [
    "for i in range(1, 10):\n",
    "    if i==5:   #yer tutucu olarak görev yapıyor. aslında bir şey yapmıyor.\n",
    "        pass\n",
    "    print(i)"
   ]
  },
  {
   "cell_type": "markdown",
   "metadata": {},
   "source": [
    "SORU:8 0 dan 10 a kadar olan tek sayıları for döngüsü kullanarak ekrana yazdır."
   ]
  },
  {
   "cell_type": "code",
   "execution_count": 18,
   "metadata": {},
   "outputs": [
    {
     "data": {
      "text/plain": [
       "[1, 9, 25, 49, 81]"
      ]
     },
     "execution_count": 18,
     "metadata": {},
     "output_type": "execute_result"
    }
   ],
   "source": [
    "[i**2 for i in range(10) if i %2!= 0]"
   ]
  },
  {
   "cell_type": "code",
   "execution_count": 16,
   "metadata": {},
   "outputs": [
    {
     "data": {
      "text/plain": [
       "[1, 3, 5, 7, 9]"
      ]
     },
     "execution_count": 16,
     "metadata": {},
     "output_type": "execute_result"
    }
   ],
   "source": [
    "[i for i in range(10) if i % 2 != 0]"
   ]
  },
  {
   "cell_type": "code",
   "execution_count": 21,
   "metadata": {},
   "outputs": [
    {
     "data": {
      "text/plain": [
       "[5, 10, 20, 25, 35, 40, 50, 55, 65, 70, 80, 85, 95]"
      ]
     },
     "execution_count": 21,
     "metadata": {},
     "output_type": "execute_result"
    }
   ],
   "source": [
    "[i for i in range(100) if i % 5 == 0 and i % 3 != 0]"
   ]
  },
  {
   "cell_type": "markdown",
   "metadata": {},
   "source": [
    "SORU:9 while döngüsü kullanarak sonsuz döngü örneği yazınız."
   ]
  },
  {
   "cell_type": "code",
   "execution_count": 3,
   "metadata": {},
   "outputs": [
    {
     "name": "stdout",
     "output_type": "stream",
     "text": [
      "Sonsuz döngüye girdik mi?\n",
      "Döngüden break st. ile çıktık\n"
     ]
    }
   ],
   "source": [
    "flag = 1\n",
    "\n",
    "while flag < 2 :\n",
    "    print(\"Sonsuz döngüye girdik mi?\")\n",
    "    break\n",
    "print(\"Döngüden break st. ile çıktık\")"
   ]
  },
  {
   "cell_type": "code",
   "execution_count": null,
   "metadata": {},
   "outputs": [],
   "source": []
  },
  {
   "cell_type": "code",
   "execution_count": null,
   "metadata": {},
   "outputs": [],
   "source": []
  },
  {
   "cell_type": "markdown",
   "metadata": {},
   "source": [
    "SORU:10 Girilen sayının faktoriyelini alan kodu for döngüsü kullanarak yazınız."
   ]
  },
  {
   "cell_type": "code",
   "execution_count": 6,
   "metadata": {},
   "outputs": [
    {
     "name": "stdout",
     "output_type": "stream",
     "text": [
      "Bir sayı giriniz: 6\n",
      "6 sayısının faktöriyeli: 720\n"
     ]
    }
   ],
   "source": [
    "number = int(input(\"Bir sayı giriniz: \"))\n",
    "factorial = 1\n",
    "#5!=5*4*3*2*1\n",
    "for i in range(1,number+1):\n",
    "    factorial *= i\n",
    "    \n",
    "print(f\"{number} sayısının faktöriyeli: {factorial}\")\n"
   ]
  },
  {
   "cell_type": "markdown",
   "metadata": {},
   "source": [
    "SORU:11: for döngüsü kullanarak 1 den 10 a kadar çarpım tablosu oluşturunuz."
   ]
  },
  {
   "cell_type": "code",
   "execution_count": 14,
   "metadata": {},
   "outputs": [
    {
     "name": "stdout",
     "output_type": "stream",
     "text": [
      "ÇARPIM TABLOSU\n",
      "1 x 1 = 1\n",
      "1 x 2 = 2\n",
      "1 x 3 = 3\n",
      "1 x 4 = 4\n",
      "1 x 5 = 5\n",
      "1 x 6 = 6\n",
      "1 x 7 = 7\n",
      "1 x 8 = 8\n",
      "1 x 9 = 9\n",
      "2 x 1 = 2\n",
      "2 x 2 = 4\n",
      "2 x 3 = 6\n",
      "2 x 4 = 8\n",
      "2 x 5 = 10\n",
      "2 x 6 = 12\n",
      "2 x 7 = 14\n",
      "2 x 8 = 16\n",
      "2 x 9 = 18\n",
      "3 x 1 = 3\n",
      "3 x 2 = 6\n",
      "3 x 3 = 9\n",
      "3 x 4 = 12\n",
      "3 x 5 = 15\n",
      "3 x 6 = 18\n",
      "3 x 7 = 21\n",
      "3 x 8 = 24\n",
      "3 x 9 = 27\n",
      "4 x 1 = 4\n",
      "4 x 2 = 8\n",
      "4 x 3 = 12\n",
      "4 x 4 = 16\n",
      "4 x 5 = 20\n",
      "4 x 6 = 24\n",
      "4 x 7 = 28\n",
      "4 x 8 = 32\n",
      "4 x 9 = 36\n",
      "5 x 1 = 5\n",
      "5 x 2 = 10\n",
      "5 x 3 = 15\n",
      "5 x 4 = 20\n",
      "5 x 5 = 25\n",
      "5 x 6 = 30\n",
      "5 x 7 = 35\n",
      "5 x 8 = 40\n",
      "5 x 9 = 45\n",
      "6 x 1 = 6\n",
      "6 x 2 = 12\n",
      "6 x 3 = 18\n",
      "6 x 4 = 24\n",
      "6 x 5 = 30\n",
      "6 x 6 = 36\n",
      "6 x 7 = 42\n",
      "6 x 8 = 48\n",
      "6 x 9 = 54\n",
      "7 x 1 = 7\n",
      "7 x 2 = 14\n",
      "7 x 3 = 21\n",
      "7 x 4 = 28\n",
      "7 x 5 = 35\n",
      "7 x 6 = 42\n",
      "7 x 7 = 49\n",
      "7 x 8 = 56\n",
      "7 x 9 = 63\n",
      "8 x 1 = 8\n",
      "8 x 2 = 16\n",
      "8 x 3 = 24\n",
      "8 x 4 = 32\n",
      "8 x 5 = 40\n",
      "8 x 6 = 48\n",
      "8 x 7 = 56\n",
      "8 x 8 = 64\n",
      "8 x 9 = 72\n",
      "9 x 1 = 9\n",
      "9 x 2 = 18\n",
      "9 x 3 = 27\n",
      "9 x 4 = 36\n",
      "9 x 5 = 45\n",
      "9 x 6 = 54\n",
      "9 x 7 = 63\n",
      "9 x 8 = 72\n",
      "9 x 9 = 81\n"
     ]
    }
   ],
   "source": [
    "print(\"ÇARPIM TABLOSU\")\n",
    "for i in [f\"{i} x {j} = {i*j}\" for i in range(1,10) for j in range(1,10)]: print(i)"
   ]
  },
  {
   "cell_type": "markdown",
   "metadata": {},
   "source": [
    "SORU:12 for döngüsü kullanarak bir sözlüğün elemanlarını ekrana yazdırınız."
   ]
  },
  {
   "cell_type": "code",
   "execution_count": 15,
   "metadata": {},
   "outputs": [],
   "source": [
    "sözlük = {\"bir\":1, \"iki\":2, \"üç\":3, \"dört\":4, \"beş\":5}"
   ]
  },
  {
   "cell_type": "code",
   "execution_count": 17,
   "metadata": {},
   "outputs": [
    {
     "name": "stdout",
     "output_type": "stream",
     "text": [
      "bir\n",
      "iki\n",
      "üç\n",
      "dört\n",
      "beş\n"
     ]
    }
   ],
   "source": [
    "for eleman in sözlük.keys():\n",
    "    print(eleman)"
   ]
  },
  {
   "cell_type": "code",
   "execution_count": 18,
   "metadata": {},
   "outputs": [
    {
     "name": "stdout",
     "output_type": "stream",
     "text": [
      "1\n",
      "2\n",
      "3\n",
      "4\n",
      "5\n"
     ]
    }
   ],
   "source": [
    "for eleman in sözlük.values():\n",
    "    print(eleman)"
   ]
  },
  {
   "cell_type": "code",
   "execution_count": 19,
   "metadata": {},
   "outputs": [
    {
     "name": "stdout",
     "output_type": "stream",
     "text": [
      "1\n",
      "2\n",
      "3\n",
      "4\n",
      "5\n"
     ]
    }
   ],
   "source": [
    "for i in sözlük:\n",
    "    print(sözlük[i])"
   ]
  },
  {
   "cell_type": "markdown",
   "metadata": {},
   "source": [
    "SORU:13 Aşağıda verilen listenin tüm elemanlarını while döngüsü kullanarak ekrana yazdırınız."
   ]
  },
  {
   "cell_type": "code",
   "execution_count": 25,
   "metadata": {},
   "outputs": [],
   "source": [
    "L = [\"elma\",\"armut\",\"karpuz\", \"kavun\", \"havuç\", \"limon\", \"soğan\"]"
   ]
  },
  {
   "cell_type": "code",
   "execution_count": 26,
   "metadata": {},
   "outputs": [
    {
     "name": "stdout",
     "output_type": "stream",
     "text": [
      "elma\n",
      "armut\n",
      "karpuz\n",
      "kavun\n",
      "havuç\n",
      "limon\n",
      "soğan\n",
      "7\n"
     ]
    }
   ],
   "source": [
    "a =0\n",
    "\n",
    "while a < len(L): \n",
    "    print(L[a]) \n",
    "    a+=1\n",
    "print(a)"
   ]
  },
  {
   "cell_type": "markdown",
   "metadata": {},
   "source": [
    "SORU:14 1'den 10' a kadar olan sayıları while kullanarak ekrana yazdırınız."
   ]
  },
  {
   "cell_type": "code",
   "execution_count": 32,
   "metadata": {},
   "outputs": [
    {
     "name": "stdout",
     "output_type": "stream",
     "text": [
      "1\n",
      "2\n",
      "3\n",
      "4\n",
      "5\n",
      "6\n",
      "7\n",
      "8\n",
      "9\n",
      "10\n"
     ]
    }
   ],
   "source": [
    "a = 1\n",
    "b = 10\n",
    "\n",
    "while a <= b:\n",
    "    print(a)\n",
    "    a+=1"
   ]
  },
  {
   "cell_type": "code",
   "execution_count": null,
   "metadata": {},
   "outputs": [],
   "source": []
  },
  {
   "cell_type": "code",
   "execution_count": null,
   "metadata": {},
   "outputs": [],
   "source": []
  },
  {
   "cell_type": "markdown",
   "metadata": {},
   "source": [
    "SORU:15 1' den 10 a kadar sayıların toplamını while kullanarak ekrana yazdırınız."
   ]
  },
  {
   "cell_type": "code",
   "execution_count": 4,
   "metadata": {},
   "outputs": [
    {
     "name": "stdout",
     "output_type": "stream",
     "text": [
      "45\n"
     ]
    }
   ],
   "source": [
    "a = 1\n",
    "b = 10\n",
    "toplam = 0\n",
    "while a < b:\n",
    "    toplam+=a\n",
    "    a+=1\n",
    "print(toplam)"
   ]
  },
  {
   "cell_type": "code",
   "execution_count": null,
   "metadata": {},
   "outputs": [],
   "source": []
  }
 ],
 "metadata": {
  "kernelspec": {
   "display_name": "Python 3",
   "language": "python",
   "name": "python3"
  },
  "language_info": {
   "codemirror_mode": {
    "name": "ipython",
    "version": 3
   },
   "file_extension": ".py",
   "mimetype": "text/x-python",
   "name": "python",
   "nbconvert_exporter": "python",
   "pygments_lexer": "ipython3",
   "version": "3.7.6"
  }
 },
 "nbformat": 4,
 "nbformat_minor": 4
}
