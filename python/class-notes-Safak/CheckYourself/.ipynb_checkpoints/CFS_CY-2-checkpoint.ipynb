{
 "cells": [
  {
   "cell_type": "code",
   "execution_count": 2,
   "metadata": {},
   "outputs": [
    {
     "name": "stdout",
     "output_type": "stream",
     "text": [
      "1996\n"
     ]
    }
   ],
   "source": [
    "a = 998\n",
    "if a >= 999 :\n",
    "    print(a ** 0)  \n",
    "\n",
    "else :\n",
    "    print(a * 2)"
   ]
  },
  {
   "cell_type": "code",
   "execution_count": 3,
   "metadata": {},
   "outputs": [
    {
     "name": "stdout",
     "output_type": "stream",
     "text": [
      "Day 1 : Monday\n",
      "Day 2 : Tuesday\n",
      "Day 3 : Wednesday\n",
      "Day 4 : Thursday\n",
      "Day 5 : Friday\n"
     ]
    }
   ],
   "source": [
    "weekdays = ['Monday', 'Tuesday', 'Wednesday', 'Thursday', 'Friday']\n",
    "for day in range(len(weekdays)): # range den [0, 1, 2, 3, 4] gelecek. onun icin asagida day+1 yaptik\n",
    "    print('Day', day+1, ':', weekdays[day])"
   ]
  },
  {
   "cell_type": "code",
   "execution_count": 4,
   "metadata": {},
   "outputs": [
    {
     "name": "stdout",
     "output_type": "stream",
     "text": [
      "Please enter a number: 5\n",
      "0\n",
      "1\n",
      "4\n",
      "9\n",
      "16\n"
     ]
    }
   ],
   "source": [
    "number = int(input('Please enter a number: '))\n",
    "i = 0\n",
    "while i<(number):\n",
    "    print(f\"{i**2}\")\n",
    "    i+=1"
   ]
  },
  {
   "cell_type": "code",
   "execution_count": 5,
   "metadata": {},
   "outputs": [
    {
     "name": "stdout",
     "output_type": "stream",
     "text": [
      "The type of {'section': 5, 'topic': 2} is <class 'dict'>\n",
      "The type of clarusway is <class 'str'>\n",
      "The type of [1, 4] is <class 'list'>\n",
      "The type of 2020 is <class 'int'>\n",
      "The type of 3.14 is <class 'float'>\n",
      "The type of (1+618j) is <class 'complex'>\n",
      "The type of False is <class 'bool'>\n",
      "The type of (10, 20) is <class 'tuple'>\n"
     ]
    }
   ],
   "source": [
    "sample_list = [{\"section\":5, \"topic\":2}, 'clarusway', [1, 4], 2020, 3.14, 1+618j, False, (10, 20)]\n",
    "for i in sample_list:\n",
    "    print(f\"The type of {i} is\", type(i))"
   ]
  },
  {
   "cell_type": "code",
   "execution_count": 6,
   "metadata": {},
   "outputs": [
    {
     "name": "stdout",
     "output_type": "stream",
     "text": [
      "Enter a wordamerika\n",
      "{'a', 'e', 'i'}\n"
     ]
    }
   ],
   "source": [
    "vowel = [\"a\", \"e\", \"i\", \"o\", \"u\"]\n",
    "lst = []\n",
    "word = input('Enter a word').lower()\n",
    "for i in word:\n",
    "    if i in vowel:\n",
    "        lst.append(i)\n",
    "print(set(lst))"
   ]
  },
  {
   "cell_type": "code",
   "execution_count": 9,
   "metadata": {},
   "outputs": [
    {
     "name": "stdout",
     "output_type": "stream",
     "text": [
      "{'a', 'i'}\n"
     ]
    }
   ],
   "source": [
    "vowels = ['a','e','i','o','u','A','E','I','O','U']\n",
    "set_vowels = set()\n",
    "word = 'ankaralimisin'\n",
    "for i in word:\n",
    "    if i in vowels:\n",
    "        set_vowels.add(i)\n",
    "        \n",
    "print(set_vowels)"
   ]
  },
  {
   "cell_type": "code",
   "execution_count": 14,
   "metadata": {},
   "outputs": [
    {
     "name": "stdout",
     "output_type": "stream",
     "text": [
      "105\n",
      "126\n",
      "147\n",
      "168\n",
      "189\n",
      "210\n",
      "231\n",
      "252\n",
      "273\n",
      "294\n",
      "315\n",
      "336\n",
      "357\n",
      "378\n",
      "399\n",
      "420\n",
      "441\n",
      "462\n",
      "483\n"
     ]
    }
   ],
   "source": [
    "#append etmeden \n",
    "for i in range(100,501):\n",
    "    if i%7==0 and i%3==0:\n",
    "        print(i)"
   ]
  },
  {
   "cell_type": "code",
   "execution_count": 11,
   "metadata": {},
   "outputs": [
    {
     "name": "stdout",
     "output_type": "stream",
     "text": [
      "[105, 126, 147, 168, 189, 210, 231, 252, 273, 294, 315, 336, 357, 378, 399, 420, 441, 462, 483]\n"
     ]
    }
   ],
   "source": [
    "#append ederek\n",
    "b=[]\n",
    "for i in range(100,501):\n",
    "    if i%3==0 and i%7==0:\n",
    "        b.append(i)\n",
    "print(b)"
   ]
  },
  {
   "cell_type": "markdown",
   "metadata": {},
   "source": [
    "7 days 24 hours girdigimizde\n",
    "\n",
    "letters = 9\n",
    "digits = 3 \n",
    "\n",
    "ciktisini verecek"
   ]
  },
  {
   "cell_type": "code",
   "execution_count": 15,
   "metadata": {},
   "outputs": [
    {
     "name": "stdout",
     "output_type": "stream",
     "text": [
      "Ente a statetment:7 days 24 hours\n",
      "Letters 9\n",
      "Digits 3\n"
     ]
    }
   ],
   "source": [
    "a = input(\"Enter a statement:\")\n",
    "x=y=0\n",
    "for c in a:\n",
    "    if c.isdigit():\n",
    "        x=x+1\n",
    "    elif c.isalpha():\n",
    "        y=y+1\n",
    "    else:\n",
    "        continue\n",
    "print(\"Letters\", y)\n",
    "print(\"Digits\", x)"
   ]
  },
  {
   "cell_type": "code",
   "execution_count": 17,
   "metadata": {},
   "outputs": [
    {
     "name": "stdout",
     "output_type": "stream",
     "text": [
      "enter a input: 7 days 24 hours\n",
      "9\n",
      "3\n"
     ]
    }
   ],
   "source": [
    "word = input(\"enter a input: \")\n",
    "\n",
    "letter = list()\n",
    "digit = list()\n",
    "for i in word:\n",
    "    if i.isdigit():\n",
    "        digit.append(i)\n",
    "    elif i.isalpha():\n",
    "        letter.append(i)\n",
    "print(len(letter))\n",
    "print(len(digit))"
   ]
  },
  {
   "cell_type": "code",
   "execution_count": 20,
   "metadata": {},
   "outputs": [
    {
     "name": "stdout",
     "output_type": "stream",
     "text": [
      "er\n",
      "letters : 2 digits : 0\n"
     ]
    }
   ],
   "source": [
    "y=input(\"\")\n",
    "letters=0\n",
    "digits=0\n",
    "for i in y:\n",
    "    if i.isdigit():\n",
    "        digits+=1\n",
    "    else:\n",
    "        letters+=1\n",
    "print(\"letters :\",letters,\"digits :\", digits)"
   ]
  },
  {
   "cell_type": "code",
   "execution_count": 21,
   "metadata": {},
   "outputs": [
    {
     "name": "stdout",
     "output_type": "stream",
     "text": [
      "Enter a statement: 7 days 24 hours\n",
      "3 digits, 9 strings\n"
     ]
    }
   ],
   "source": [
    "string = input('Enter a statement: ')\n",
    "digits = []\n",
    "strings = []\n",
    "for i in string:\n",
    "    if i.isdigit():\n",
    "        digits.append(i)\n",
    "    if i.isalpha():\n",
    "        strings.append(i)\n",
    "digits_no = len(digits)\n",
    "strings_no = len(strings)\n",
    "print(f'{digits_no} digits, {strings_no} strings')"
   ]
  },
  {
   "cell_type": "code",
   "execution_count": null,
   "metadata": {},
   "outputs": [],
   "source": []
  }
 ],
 "metadata": {
  "kernelspec": {
   "display_name": "Python 3",
   "language": "python",
   "name": "python3"
  },
  "language_info": {
   "codemirror_mode": {
    "name": "ipython",
    "version": 3
   },
   "file_extension": ".py",
   "mimetype": "text/x-python",
   "name": "python",
   "nbconvert_exporter": "python",
   "pygments_lexer": "ipython3",
   "version": "3.7.6"
  }
 },
 "nbformat": 4,
 "nbformat_minor": 4
}
