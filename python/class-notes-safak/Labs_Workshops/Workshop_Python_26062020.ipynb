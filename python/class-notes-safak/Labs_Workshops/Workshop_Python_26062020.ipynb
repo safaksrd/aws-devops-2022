{
 "cells": [
  {
   "cell_type": "markdown",
   "metadata": {},
   "source": [
    "### Problem 1\n",
    "\n",
    "Kullanıcıdan aldığınız 3 tane sayıyı çarparak ekrana yazdırın. Ekrana yazdırma işlemini ***format*** metoduyla yapmaya çalışın."
   ]
  },
  {
   "cell_type": "code",
   "execution_count": 1,
   "metadata": {},
   "outputs": [
    {
     "name": "stdout",
     "output_type": "stream",
     "text": [
      "Bir sayi giriniz: 2\n",
      "Bir sayi daha giriniz: 3\n",
      "Bir sayi daha lutfen: 5\n",
      "2*3*5=30\n",
      "2*3*5=30\n",
      "2*3*5=30\n",
      "2*3*5=30\n"
     ]
    }
   ],
   "source": [
    "num1 = int(input(\"Bir sayi giriniz: \"))\n",
    "num2 = int(input(\"Bir sayi daha giriniz: \"))\n",
    "num3 = int(input(\"Bir sayi daha lutfen: \"))\n",
    "\n",
    "result = num1 * num2 * num3\n",
    "print(\"%d*%d*%d=%d\"%(num1,num2,num3,result))\n",
    "print(\"{}*{}*{}={}\".format(num1,num2,num3,result))  # degiskenler sirali ise suslu parantezlere rakam girmeye gerek yok, siradan ceker.\n",
    "print(\"{2}*{0}*{1}={3}\".format(num2,num3,num1,result))  # degiskenler karisik sirada verilirse, suslu parantezlere rakam girebilriiz\n",
    "print(f\"{num1}*{num2}*{num3}={result}\")"
   ]
  },
  {
   "cell_type": "markdown",
   "metadata": {},
   "source": [
    "### Problem 2\n",
    "\n",
    "Kullanıcıdan aldığınız **boy** ve **kilo** değerlerine göre kullanıcının beden kitle indeksini bulun.\n",
    "\n",
    "*Beden Kitle İndeksi :  Kilo(kg) / Boy(m) * Boy(m)"
   ]
  },
  {
   "cell_type": "code",
   "execution_count": 1,
   "metadata": {},
   "outputs": [
    {
     "name": "stdout",
     "output_type": "stream",
     "text": [
      "Kilonuzu kg cinsinden giriniz(Ornek:70): 70\n",
      "Boyunuzu m cinsinden giriniz(Ornek:1.80): 1.80\n",
      "Beden kitle indeksiniz: 21.60\n",
      "Beden kitle indeksiniz: 21.60\n",
      "3.67\n",
      "4.69\n"
     ]
    }
   ],
   "source": [
    "kilo = float(input(\"Kilonuzu kg cinsinden giriniz(Ornek:70): \"))\n",
    "boy = float(input(\"Boyunuzu m cinsinden giriniz(Ornek:1.80): \"))\n",
    "\n",
    "beden_kitle_indx = kilo / boy ** 2\n",
    "print(\"Beden kitle indeksiniz: {:.2f}\".format(beden_kitle_indx))\n",
    "print(f\"Beden kitle indeksiniz: {beden_kitle_indx:.2f}\")\n",
    "\n",
    "x=3.6655847\n",
    "print(f\"{x:.2f}\")  # f.string float\n",
    "y=4.6855847\n",
    "print(\"{:.2f}\".format(y))  # string.format float"
   ]
  },
  {
   "cell_type": "markdown",
   "metadata": {},
   "source": [
    "### Problem 3\n",
    "\n",
    "Elinizde 200 dolarla değeri 11 dolar olan malzemeden max kaç adet alabilirsiniz? Geriye ne kadar paranız kalır?"
   ]
  },
  {
   "cell_type": "code",
   "execution_count": 18,
   "metadata": {},
   "outputs": [
    {
     "name": "stdout",
     "output_type": "stream",
     "text": [
      "200 dolarla tanesi 11 olan malzemeden 18 tane alabilirsiniz. Geriye 2 dolar paraniz kalir.\n"
     ]
    }
   ],
   "source": [
    "ana_para = 200\n",
    "adet_fyt = 11\n",
    "\n",
    "max_adet = ana_para // adet_fyt\n",
    "kalan = ana_para % max_adet\n",
    "\n",
    "phrase = f\"{ana_para} dolarla tanesi {adet_fyt} olan malzemeden\"\\\n",
    "     f\" {max_adet} tane alabilirsiniz.\"\\\n",
    "     f\" Geriye {kalan} dolar paraniz kalir.\"\n",
    "print(phrase)"
   ]
  },
  {
   "cell_type": "markdown",
   "metadata": {},
   "source": [
    "### Problem 4\n",
    "\n",
    "Kullanıcıdan iki tane sayı isteyin ve bu sayıların değerlerini birbirleriyle değiştirin..(interview)"
   ]
  },
  {
   "cell_type": "code",
   "execution_count": 19,
   "metadata": {},
   "outputs": [
    {
     "name": "stdout",
     "output_type": "stream",
     "text": [
      "Bir sayi giriniz: 45\n",
      "Bir sayi daha giriniz: 20\n",
      "Degistirilmeden onceki degerler a=45 b=20\n",
      "Degistirildikten sonraki degerler a=20 b=45\n"
     ]
    }
   ],
   "source": [
    "a = input(\"Bir sayi giriniz: \")\n",
    "b = input(\"Bir sayi daha giriniz: \")\n",
    "\n",
    "print(f\"Degistirilmeden onceki degerler a={a} b={b}\")\n",
    "\n",
    "a,b = b,a\n",
    "\n",
    "print(f\"Degistirildikten sonraki degerler a={a} b={b}\")\n",
    "\n",
    "\n"
   ]
  },
  {
   "cell_type": "markdown",
   "metadata": {},
   "source": [
    "### Problem 5\n",
    "\n",
    "Kullanıcıdan ad,soyad ve numara bilgisini alarak bunları alt alta ekrana yazdırın."
   ]
  },
  {
   "cell_type": "code",
   "execution_count": 5,
   "metadata": {},
   "outputs": [
    {
     "name": "stdout",
     "output_type": "stream",
     "text": [
      "Adinizi giriniz: Ahmet\n",
      "Soyadinizi giriniz: Sahin\n",
      "Numaranizi giriniz: 1544\n",
      "Adiniz\t\t: Ahmet\n",
      "Soyadiniz\t: Sahin\n",
      "Numaraniz\t: 1544\n"
     ]
    }
   ],
   "source": [
    "ad = input(\"Adinizi giriniz: \")\n",
    "soyad = input(\"Soyadinizi giriniz: \")\n",
    "num = input(\"Numaranizi giriniz: \")\n",
    "\n",
    "print(f\"Adiniz\\t\\t: {ad}\\nSoyadiniz\\t: {soyad}\\nNumaraniz\\t: {num}\")"
   ]
  },
  {
   "cell_type": "markdown",
   "metadata": {},
   "source": [
    "### Problem 6\n",
    "\n",
    "Kullanıcıdan word, seperator ve repetition değerleri alıp, verilen değerlere göre kelimeyi ekrana yazdırın. Örn: word = ali sep = / repetition = 3 ----> ali/ali/ali"
   ]
  },
  {
   "cell_type": "code",
   "execution_count": 6,
   "metadata": {},
   "outputs": [
    {
     "name": "stdout",
     "output_type": "stream",
     "text": [
      "Bir kelime giriniz: mehmet\n",
      "Bir ayrac giriniz: $\n",
      "Kac kez tekrarlansin: 3\n",
      "mehmet$mehmet$mehmet\n",
      "mehmet$mehmet$mehmet\n"
     ]
    }
   ],
   "source": [
    "word = input(\"Bir kelime giriniz: \")\n",
    "sep = input(\"Bir ayrac giriniz: \")\n",
    "rep = int(input(\"Kac kez tekrarlansin: \"))\n",
    "\n",
    "sonuc = (word + sep) * rep\n",
    "\n",
    "print(sonuc[:len(sonuc)-1])\n",
    "#print(sonuc[:len(sonuc-1)])\n",
    "print(sonuc[:-1])"
   ]
  },
  {
   "cell_type": "markdown",
   "metadata": {},
   "source": [
    "# Problem 7\n",
    "\n",
    "Kullanıcıdan kelime ve sayı girdisi alın ve örnekteki çıktıyı else edin.\n",
    "Örn:\n",
    "word = Clarusway\n",
    "n = 3\n",
    "OUTPUT = waywayway "
   ]
  },
  {
   "cell_type": "code",
   "execution_count": 7,
   "metadata": {},
   "outputs": [
    {
     "name": "stdout",
     "output_type": "stream",
     "text": [
      "Bir kelime giriniz: Workshop\n",
      "Son n karakterin n tekrari: 4\n",
      "shopshopshopshop\n"
     ]
    }
   ],
   "source": [
    "word = input(\"Bir kelime giriniz: \")\n",
    "n = int(input(\"Son n karakterin n tekrari: \"))\n",
    "\n",
    "print(word[-n:] * n)"
   ]
  },
  {
   "cell_type": "markdown",
   "metadata": {},
   "source": [
    "# Problem 8\n",
    "Kullanıcıdan bir sayı alın, eğer sayı 3 e bölünüyorsa Clarus, 5 e bölünüyorsa way, her ikisine bölünüyorsa Clarusway, bölünmüyorsa sayının kendisini yazdırın\n",
    "\n",
    "In numeric contexts (for example, when used as the argument to an arithmetic operator), they behave like the integers 0 and 1, respectively."
   ]
  },
  {
   "cell_type": "code",
   "execution_count": 8,
   "metadata": {},
   "outputs": [
    {
     "name": "stdout",
     "output_type": "stream",
     "text": [
      "Bir tamsayi giriniz: 12\n",
      "True\n",
      "False\n",
      "Clarus\n",
      "\n",
      "Clarus\n",
      "12\n",
      "Clarus\n"
     ]
    }
   ],
   "source": [
    "num = int(input(\"Bir tamsayi giriniz: \"))\n",
    "\n",
    "print(num % 3 == 0)\n",
    "print(num % 5 == 0)\n",
    "print((\"Clarus\" * (num % 3 == 0)))\n",
    "print((\"way\" * (num % 5 == 0)))\n",
    "print((\"Clarus\" * (num % 3 == 0)) or num)\n",
    "print((\"way\" * (num % 5 == 0)) or num)\n",
    "print((\"Clarus\" * (num % 3 == 0) + \"way\" * (num % 5 == 0)) or num)"
   ]
  },
  {
   "cell_type": "markdown",
   "metadata": {},
   "source": [
    "### Problem 9\n",
    "letters = \"abclarusxyz\" \n",
    "- yığındaki clarus kelimesini elde edin\n",
    "- cba yı elde edin\n",
    "- son sekiz karakteri ters sırayla yazdırın"
   ]
  },
  {
   "cell_type": "code",
   "execution_count": 40,
   "metadata": {},
   "outputs": [
    {
     "name": "stdout",
     "output_type": "stream",
     "text": [
      "clarus\n",
      "cba\n",
      "zyxsural\n"
     ]
    }
   ],
   "source": [
    "letters = \"abclarusxyz\"\n",
    "print(letters[2:8:1])\n",
    "print(letters[2::-1])\n",
    "print(letters[-1:-9:-1])"
   ]
  },
  {
   "cell_type": "markdown",
   "metadata": {},
   "source": [
    "### Problem 10\n",
    "rand_list listesinin elemanlarından\n",
    "Claruway is the best yazdırın"
   ]
  },
  {
   "cell_type": "markdown",
   "metadata": {},
   "source": [
    "rand_list = [1,[1, 2, \"Clarus\", [2, \"way\"]], \" is the best\"]"
   ]
  },
  {
   "cell_type": "code",
   "execution_count": 12,
   "metadata": {},
   "outputs": [
    {
     "name": "stdout",
     "output_type": "stream",
     "text": [
      "Claruway is the best\n"
     ]
    }
   ],
   "source": [
    "rand_list = [1,[1, 2, \"Clarus\", [2, \"way\"]], \" is the best\"]\n",
    "\n",
    "a = rand_list[1][2].rstrip(\"s\")\n",
    "\n",
    "b = rand_list[1][3][1]\n",
    "\n",
    "c = rand_list[2]\n",
    "\n",
    "print(a+b+c)"
   ]
  },
  {
   "cell_type": "markdown",
   "metadata": {},
   "source": [
    "### Problem 11\n",
    "Aşağıda verilen listeyi küçükten büyüğe sıralayın. 1 den 10 a kadar eksik olan sayıyı bulun?"
   ]
  },
  {
   "cell_type": "markdown",
   "metadata": {},
   "source": [
    "num_list = [2, 3, 1, 5, 6, 4, 9, 8, 10]"
   ]
  },
  {
   "cell_type": "code",
   "execution_count": 19,
   "metadata": {},
   "outputs": [],
   "source": [
    "num_list = [2, 3, 1, 5, 6, 4, 9, 8, 10]\n"
   ]
  },
  {
   "cell_type": "markdown",
   "metadata": {},
   "source": [
    "### Problem 12\n",
    "en yaşlı kişinin ismini yazdırın?"
   ]
  },
  {
   "cell_type": "markdown",
   "metadata": {},
   "source": [
    "old ={\n",
    "  \"Emma\": 71,\n",
    "  \"Jack\": 45,\n",
    "  \"Amy\": 15,\n",
    "  \"Ben\": 29\n",
    "}"
   ]
  },
  {
   "cell_type": "markdown",
   "metadata": {},
   "source": [
    "\n"
   ]
  },
  {
   "cell_type": "code",
   "execution_count": null,
   "metadata": {},
   "outputs": [],
   "source": []
  }
 ],
 "metadata": {
  "kernelspec": {
   "display_name": "Python 3",
   "language": "python",
   "name": "python3"
  },
  "language_info": {
   "codemirror_mode": {
    "name": "ipython",
    "version": 3
   },
   "file_extension": ".py",
   "mimetype": "text/x-python",
   "name": "python",
   "nbconvert_exporter": "python",
   "pygments_lexer": "ipython3",
   "version": "3.7.6"
  }
 },
 "nbformat": 4,
 "nbformat_minor": 2
}
